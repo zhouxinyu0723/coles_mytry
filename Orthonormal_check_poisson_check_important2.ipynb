{
 "cells": [
  {
   "cell_type": "code",
   "execution_count": 1,
   "id": "1b4a8b32",
   "metadata": {},
   "outputs": [],
   "source": [
    "import torch\n",
    "from utils import load_adj_neg, load_dataset_adj_lap\n",
    "from model import Encoder\n",
    "from model import Model\n",
    "import argparse\n",
    "from torch_geometric.nn import GCNConv\n",
    "import torch.nn.functional as F\n",
    "import networkx as nx"
   ]
  },
  {
   "cell_type": "code",
   "execution_count": 2,
   "id": "467b3274",
   "metadata": {},
   "outputs": [],
   "source": [
    "from sklearn import decomposition\n",
    "from sklearn import datasets\n",
    "from sklearn.preprocessing import StandardScaler\n",
    "import numpy as np\n",
    "import matplotlib.pyplot as plt\n",
    "import matplotlib\n",
    "import pylab as pl\n",
    "from matplotlib import collections  as mc\n",
    "def visualize(x,y,labels,lap = None, width = 5):\n",
    "    ss = 1\n",
    "    #plt.scatter(emb_pca_x,emb_pca_y,s=ss,color='r')\n",
    "    label_num = labels.max().item()\n",
    "    colors = ['r','g','b','c','m','y','k','w']\n",
    "    if lap is not None:\n",
    "        a = lap_normalized.to_sparse()._indices()\n",
    "        lines = [[(x[a[0,i]],y[a[0,i]]),(x[a[1,i]],y[a[1,i]])] for i in range(a.shape[1])]\n",
    "        lc = mc.LineCollection(lines, colors='k', linewidths=width/10)\n",
    "        fig, ax = pl.subplots()\n",
    "        ax.add_collection(lc)\n",
    "        ax.autoscale()\n",
    "        ax.margins(0.1)\n",
    "    for i in range(label_num):\n",
    "        plt.scatter(x[np.nonzero(labels == i)],y[np.nonzero(labels == i)],s=ss,color=colors[i])\n",
    "    "
   ]
  },
  {
   "cell_type": "code",
   "execution_count": 3,
   "id": "85c127cf",
   "metadata": {},
   "outputs": [
    {
     "name": "stderr",
     "output_type": "stream",
     "text": [
      "/mnt/d/time_eternity/desktop_download_doc_pic_vid_music/Desktop/fp_jupyter_conda/coles_orthonormal/coles_mytry/utils.py:193: FutureWarning: adjacency_matrix will return a scipy.sparse array instead of a matrix in Networkx 3.0.\n",
      "  adj = nx.adjacency_matrix(nx.from_dict_of_lists(graph))\n"
     ]
    }
   ],
   "source": [
    "# NOTE: Splits are randomized and results might slightly deviate from reported numbers in the paper.\n",
    "import torch\n",
    "from utils import load_adj_neg, load_dataset_adj_lap\n",
    "from ssgc import Net\n",
    "import argparse\n",
    "import numpy as np\n",
    "from classification import classify\n",
    "parser = argparse.ArgumentParser()\n",
    "dataset = 'cora'\n",
    "if dataset=='cora':\n",
    "    nhid = 512\n",
    "    output = 512\n",
    "    num_nodes = 2708\n",
    "    num_features = 1433\n",
    "    lr = 0.001\n",
    "    weight_decay = 5e-4\n",
    "    epoch = 40\n",
    "    sample = 2\n",
    "if dataset=='citeseer':\n",
    "    nhid = 512\n",
    "    output = 512\n",
    "    num_nodes = 3327\n",
    "    num_features = 3703\n",
    "    lr = 0.0001\n",
    "    weight_decay = 1e-4\n",
    "    epoch = 160\n",
    "    sample = 5\n",
    "if dataset=='pubmed':\n",
    "    nhid = 256\n",
    "    output = 256\n",
    "    num_nodes = 19717\n",
    "    num_features = 500\n",
    "    lr = 0.02\n",
    "    weight_decay = 1e-5\n",
    "    epoch = 40\n",
    "    sample = 3\n",
    "parser.add_argument('--dataset', type=str, default=dataset,\n",
    "                    help='dataset')\n",
    "parser.add_argument('--seed', type=int, default=123,\n",
    "                    help='seed')\n",
    "parser.add_argument('--nhid', type=int, default=nhid,\n",
    "                    help='hidden size')\n",
    "parser.add_argument('--output', type=int, default=output,\n",
    "                    help='output size')\n",
    "parser.add_argument('--lr', type=float, default=lr,\n",
    "                    help='learning rate')\n",
    "parser.add_argument('--weight_decay', type=float, default=weight_decay,\n",
    "                    help='weight decay')\n",
    "parser.add_argument('--epochs', type=int, default=epoch,\n",
    "                    help='maximum number of epochs')\n",
    "parser.add_argument('--sample', type=int, default=sample,\n",
    "                    help='    ')\n",
    "parser.add_argument('--num_nodes', type=int, default=num_nodes,\n",
    "                    help='    ')\n",
    "parser.add_argument('--num_features', type=int, default=num_features,\n",
    "                    help='    ')\n",
    "\n",
    "label_file = open(\"data/{}{}\".format(dataset,\"_labels.txt\"), 'r')\n",
    "label_text = label_file.readlines()\n",
    "labels = []\n",
    "for line in label_text:\n",
    "    if line.strip('\\n'):\n",
    "        line = line.strip('\\n').split(' ')\n",
    "        labels.append(int(line[1]))\n",
    "labels = torch.tensor(labels)\n",
    "\n",
    "\n",
    "args = parser.parse_args(\"\")\n",
    "args.device = 'cpu'\n",
    "torch.manual_seed(args.seed)\n",
    "device = torch.device('cuda' if torch.cuda.is_available() else 'cpu')\n",
    "\n",
    "feature, adj_normalized, lap_normalized= load_dataset_adj_lap(args.dataset)\n",
    "feature = feature.to(device)\n",
    "adj_normalized = adj_normalized.to(device)\n",
    "lap_normalized = lap_normalized.to(device)\n",
    "D = torch.unsqueeze(torch.sum(lap_normalized>0,dim=0),1)\n",
    "\n",
    "K = 8\n",
    "\n",
    "feature_poisson_origin = F.normalize(feature)\n",
    "feature_poisson_origin = feature_poisson_origin - torch.mean(feature_poisson_origin,dim=0)\n",
    "feature_poisson_origin_degree = feature_poisson_origin/torch.unsqueeze(torch.sum(lap_normalized>0,dim=0),1)\n",
    "feature_smoothed_poisson = torch.zeros(feature.shape)\n",
    "adj_poisson = (adj_normalized>0)/D\n",
    "for i in range(K):\n",
    "    feature_smoothed_poisson = feature_poisson_origin_degree + torch.mm(adj_poisson, feature_smoothed_poisson)\n",
    "#feature_smoothed_poisson/=K"
   ]
  },
  {
   "cell_type": "code",
   "execution_count": null,
   "id": "c19f44c7",
   "metadata": {},
   "outputs": [],
   "source": [
    "feature_poisson_origin = F.normalize(feature)\n",
    "feature_poisson_origin = feature_poisson_origin - torch.mean(feature_poisson_origin,dim=0)\n",
    "feature_smoothed_poisson = torch.zeros(feature.shape)\n",
    "adj_poisson = (adj_normalized>0)/D\n",
    "adj_extrinsic_poisson = adj_poisson * (1 - torch.eye(adj_poisson.shape[0]))\n",
    "\n",
    "for i in range(20):\n",
    "    feature_smoothed_poisson = feature_poisson_origin/D + torch.mm(adj_extrinsic_poisson, feature_smoothed_poisson)\n",
    "#feature_smoothed_poisson/=K\n",
    "\n",
    "#trust = torch.ones([feature.shape[0],1])\n",
    "#for i in range(K):\n",
    "#    trust = torch.mm((adj_normalized>0).float(), trust)\n",
    "#feature_smoothed_poisson/=K\n",
    "classify(F.normalize(feature_smoothed_poisson)*torch.sqrt(D), args.dataset, per_class='20')\n",
    "classify(F.normalize(feature_smoothed_poisson)*torch.sqrt(D), args.dataset, per_class='5')\n",
    "\n",
    "from sklearn.datasets import load_digits\n",
    "from sklearn.decomposition import FastICA\n",
    "transformer = decomposition.PCA(n_components=70,\n",
    "        random_state=0)\n",
    "#feature_pca = transformer.fit_transform(F.normalize(feature_smoothed_sgc))\n",
    "feature_pca = transformer.fit_transform(F.normalize(feature_smoothed_poisson)*torch.sqrt(D))\n",
    "visualize(feature_pca[:,2],feature_pca[:,3],labels,lap_normalized,0.1)\n"
   ]
  },
  {
   "cell_type": "code",
   "execution_count": 14,
   "id": "34daf2b6",
   "metadata": {},
   "outputs": [
    {
     "name": "stdout",
     "output_type": "stream",
     "text": [
      "57.67710049423393\n",
      "4.382749467926512\n",
      "51.537528430629266\n",
      "7.214052943308329\n"
     ]
    },
    {
     "data": {
      "image/png": "[encoded data removed]",
      "text/plain": [
       "<Figure size 432x288 with 1 Axes>"
      ]
     },
     "metadata": {
      "needs_background": "light"
     },
     "output_type": "display_data"
    }
   ],
   "source": [
    "feature_poisson_origin = F.normalize(feature)\n",
    "feature_poisson_origin = feature_poisson_origin - torch.mean(feature_poisson_origin,dim=0)\n",
    "feature_smoothed_poisson = torch.zeros(feature.shape)\n",
    "adj_poisson = (adj_normalized>0)/D\n",
    "adj_extrinsic_poisson = adj_poisson * (1 - torch.eye(adj_poisson.shape[0]))\n",
    "\n",
    "for i in range(20):\n",
    "    feature_smoothed_poisson = feature_poisson_origin/D + torch.mm(adj_extrinsic_poisson, feature_smoothed_poisson)\n",
    "#feature_smoothed_poisson/=K\n",
    "\n",
    "#trust = torch.ones([feature.shape[0],1])\n",
    "#for i in range(K):\n",
    "#    trust = torch.mm((adj_normalized>0).float(), trust)\n",
    "#feature_smoothed_poisson/=K\n",
    "classify(F.normalize(feature_smoothed_poisson)*torch.sqrt(D), args.dataset, per_class='20')\n",
    "classify(F.normalize(feature_smoothed_poisson)*torch.sqrt(D), args.dataset, per_class='5')\n",
    "\n",
    "from sklearn.datasets import load_digits\n",
    "from sklearn.decomposition import FastICA\n",
    "transformer = decomposition.PCA(n_components=70,\n",
    "        random_state=0)\n",
    "#feature_pca = transformer.fit_transform(F.normalize(feature_smoothed_sgc))\n",
    "feature_pca = transformer.fit_transform(F.normalize(feature_smoothed_poisson)*torch.sqrt(D))\n",
    "visualize(feature_pca[:,2],feature_pca[:,3],labels,lap_normalized,0.1)\n"
   ]
  },
  {
   "cell_type": "code",
   "execution_count": 12,
   "id": "6a3db8de",
   "metadata": {},
   "outputs": [
    {
     "data": {
      "text/plain": [
       "[<matplotlib.lines.Line2D at 0x7f5702295250>]"
      ]
     },
     "execution_count": 12,
     "metadata": {},
     "output_type": "execute_result"
    },
    {
     "data": {
      "image/png": "[encoded data removed]",
      "text/plain": [
       "<Figure size 432x288 with 1 Axes>"
      ]
     },
     "metadata": {
      "needs_background": "light"
     },
     "output_type": "display_data"
    }
   ],
   "source": [
    "trust = torch.ones([feature.shape[0],1])\n",
    "for i in range(30):\n",
    "    trust = torch.mm((adj_normalized>0).float(), trust)\n",
    "    trust = trust/torch.sum(trust)\n",
    "feature_smoothed_poisson/=K\n",
    "from sklearn.datasets import load_digits\n",
    "from sklearn.decomposition import FastICA\n",
    "plt.plot(trust)"
   ]
  },
  {
   "cell_type": "code",
   "execution_count": 22,
   "id": "40e6d879",
   "metadata": {},
   "outputs": [],
   "source": [
    "feature_poisson_origin = F.normalize(feature)\n",
    "feature_poisson_origin = feature_poisson_origin - torch.mean(feature_poisson_origin,dim=0)\n",
    "feature_smoothed_poisson = torch.zeros(feature.shape)\n",
    "adj_poisson = (adj_normalized>0)/D\n",
    "adj_extrinsic_poisson = adj_poisson * (1 - torch.eye(adj_poisson.shape[0]))\n",
    "\n",
    "feature_smoothed_poisson = feature_poisson_origin/D + torch.mm(adj_extrinsic_poisson, feature_smoothed_poisson)\n",
    "trust_origin = D\n",
    "trust_origin = trust_origin/torch.unsqueeze(torch.sum((adj_normalized>0)*torch.transpose(D,0,1),dim = 1),1)\n",
    "for i in range(20):\n",
    "    feature_smoothed_poisson = feature_poisson_origin/D*trust_origin + torch.mm(adj_extrinsic_poisson, feature_smoothed_poisson*trust_origin)\n",
    "     \n",
    "\n",
    "\n",
    "\n"
   ]
  },
  {
   "cell_type": "code",
   "execution_count": 18,
   "id": "39ca9d58",
   "metadata": {},
   "outputs": [
    {
     "data": {
      "text/plain": [
       "torch.Size([2708, 2708])"
      ]
     },
     "execution_count": 18,
     "metadata": {},
     "output_type": "execute_result"
    }
   ],
   "source": [
    "trust_origin.shape"
   ]
  },
  {
   "cell_type": "code",
   "execution_count": 25,
   "id": "d11ac580",
   "metadata": {},
   "outputs": [
    {
     "data": {
      "image/png": "[encoded data removed]",
      "text/plain": [
       "<Figure size 432x288 with 1 Axes>"
      ]
     },
     "metadata": {
      "needs_background": "light"
     },
     "output_type": "display_data"
    }
   ],
   "source": [
    "from sklearn.datasets import load_digits\n",
    "from sklearn.decomposition import FastICA\n",
    "transformer = decomposition.PCA(n_components=70,\n",
    "        random_state=0)\n",
    "#feature_pca = transformer.fit_transform(F.normalize(feature_smoothed_sgc))\n",
    "feature_pca = transformer.fit_transform(F.normalize(feature_smoothed_poisson)*torch.sqrt(D))\n",
    "visualize(feature_pca[:,2],feature_pca[:,3],labels,lap_normalized,0.01)"
   ]
  },
  {
   "cell_type": "code",
   "execution_count": 24,
   "id": "4b5246c2",
   "metadata": {},
   "outputs": [
    {
     "name": "stdout",
     "output_type": "stream",
     "text": [
      "65.95551894563427\n",
      "1.6562368448220133\n",
      "48.55344958301744\n",
      "3.976317453403306\n"
     ]
    }
   ],
   "source": [
    "classify(F.normalize(feature_smoothed_poisson)*torch.sqrt(D), args.dataset, per_class='20')\n",
    "classify(F.normalize(feature_smoothed_poisson)*torch.sqrt(D), args.dataset, per_class='5')"
   ]
  },
  {
   "cell_type": "code",
   "execution_count": null,
   "id": "e5a7609c",
   "metadata": {},
   "outputs": [],
   "source": [
    "feature_poisson_origin = F.normalize(feature)\n",
    "feature_poisson_origin = feature_poisson_origin - torch.mean(feature_poisson_origin,dim=0)\n",
    "\n",
    "\n",
    "adj_poisson = (adj_normalized>0)/D\n",
    "adj_extrinsic_poisson = adj_poisson * (1 - torch.eye(adj_poisson.shape[0]))\n",
    "\n",
    "feature_smoothed_poisson = torch.zeros(feature.shape)\n",
    "feature_trust = torch.ones([feature.shape[0],1])\n",
    "\n",
    "\n",
    "for i in range(20):\n",
    "    feature_smoothed_poisson = feature_poisson_origin/D + torch.mm(adj_extrinsic_poisson,torch.mm(trust,feature_smoothed_poisson))\n",
    "    feature_trust = feature_trust + torch.mm(adj_extrinsic_poisson,feature_trust)\n",
    "#feature_smoothed_poisson/=K\n",
    "\n",
    "#trust = torch.ones([feature.shape[0],1])\n",
    "#for i in range(K):\n",
    "#    trust = torch.mm((adj_normalized>0).float(), trust)\n",
    "#feature_smoothed_poisson/=K\n",
    "classify(F.normalize(feature_smoothed_poisson)*torch.sqrt(D), args.dataset, per_class='20')\n",
    "classify(F.normalize(feature_smoothed_poisson)*torch.sqrt(D), args.dataset, per_class='5')\n",
    "\n",
    "from sklearn.datasets import load_digits\n",
    "from sklearn.decomposition import FastICA\n",
    "transformer = decomposition.PCA(n_components=70,\n",
    "        random_state=0)\n",
    "#feature_pca = transformer.fit_transform(F.normalize(feature_smoothed_sgc))\n",
    "feature_pca = transformer.fit_transform(F.normalize(feature_smoothed_poisson)*torch.sqrt(D))\n",
    "visualize(feature_pca[:,2],feature_pca[:,3],labels,lap_normalized,0.1)\n"
   ]
  },
  {
   "cell_type": "code",
   "execution_count": null,
   "id": "abaf99b9",
   "metadata": {},
   "outputs": [],
   "source": []
  },
  {
   "cell_type": "code",
   "execution_count": null,
   "id": "09d4d7ba",
   "metadata": {},
   "outputs": [],
   "source": [
    "classify(F.normalize(feature_smoothed_poisson), args.dataset, per_class='20')\n",
    "classify(F.normalize(feature_smoothed_poisson), args.dataset, per_class='5')"
   ]
  },
  {
   "cell_type": "code",
   "execution_count": null,
   "id": "b382e20e",
   "metadata": {},
   "outputs": [],
   "source": [
    "\n"
   ]
  },
  {
   "cell_type": "code",
   "execution_count": null,
   "id": "48a07301",
   "metadata": {},
   "outputs": [],
   "source": [
    "feature_pca = transformer.fit_transform(F.normalize(feature_smoothed_poisson)*(torch.sqrt(D)))\n",
    "#feature_pca = transformer.fit_transform(feature_smoothed_poisson*(torch.sqrt(D)))\n",
    "visualize(feature_pca[:,2],feature_pca[:,3],labels)\n"
   ]
  },
  {
   "cell_type": "code",
   "execution_count": null,
   "id": "2e3c592c",
   "metadata": {},
   "outputs": [],
   "source": [
    "pca = decomposition.FastICA(n_components=512)\n",
    "feature_ica = pca.fit_transform(feature_smoothed_ssgc)\n",
    "\n"
   ]
  },
  {
   "cell_type": "code",
   "execution_count": null,
   "id": "3ee3a9e4",
   "metadata": {},
   "outputs": [],
   "source": []
  },
  {
   "cell_type": "code",
   "execution_count": null,
   "id": "81933653",
   "metadata": {},
   "outputs": [],
   "source": [
    "pca = decomposition.PCA(n_components=4)\n",
    "feature_pca = pca.fit_transform(feature_smoothed_ssgc)\n",
    "#visualize(feature_pca[:,2],feature_pca[:,3],labels,lap_normalized)\n"
   ]
  },
  {
   "cell_type": "code",
   "execution_count": null,
   "id": "04c68821",
   "metadata": {},
   "outputs": [],
   "source": [
    "classify(feature_smoothed_poisson*D, args.dataset, per_class='20')\n",
    "classify(feature_smoothed_poisson*D, args.dataset, per_class='5')\n",
    "#*torch.sqrt(D)\n",
    "#*torch.sqrt(D)"
   ]
  },
  {
   "cell_type": "code",
   "execution_count": null,
   "id": "732ec41c",
   "metadata": {},
   "outputs": [],
   "source": [
    "#F.normalize(feature_smoothed_poisson)*(torch.sqrt(D)\n",
    "classify(F.normalize(feature_smoothed_poisson)*(torch.sqrt(D)), args.dataset, per_class='20')\n",
    "classify(F.normalize(feature_smoothed_poisson)*(torch.sqrt(D)), args.dataset, per_class='5')"
   ]
  },
  {
   "cell_type": "code",
   "execution_count": null,
   "id": "9f2be615",
   "metadata": {},
   "outputs": [],
   "source": [
    "classify(F.normalize(feature_smoothed_ssgc)*(torch.sqrt(D)), args.dataset, per_class='20')\n",
    "classify(F.normalize(feature_smoothed_ssgc)*(torch.sqrt(D)), args.dataset, per_class='5')"
   ]
  },
  {
   "cell_type": "code",
   "execution_count": null,
   "id": "93746868",
   "metadata": {},
   "outputs": [],
   "source": [
    "classify(feature_smoothed_ssgc, args.dataset, per_class='20')\n",
    "classify(feature_smoothed_ssgc, args.dataset, per_class='5')"
   ]
  },
  {
   "cell_type": "code",
   "execution_count": null,
   "id": "51488fb7",
   "metadata": {},
   "outputs": [],
   "source": [
    "classify(emb_origin, args.dataset, per_class='20')\n",
    "classify(emb_origin, args.dataset, per_class='5')"
   ]
  },
  {
   "cell_type": "code",
   "execution_count": null,
   "id": "34113169",
   "metadata": {},
   "outputs": [],
   "source": [
    "classify(F.normalize(torch.tensor(emb_origin))*torch.sqrt(D), args.dataset, per_class='20')\n",
    "classify(F.normalize(torch.tensor(emb_origin))*torch.sqrt(D), args.dataset, per_class='5')"
   ]
  },
  {
   "cell_type": "code",
   "execution_count": null,
   "id": "17ca918a",
   "metadata": {},
   "outputs": [],
   "source": [
    "pca = decomposition.PCA(n_components=10)\n",
    "feature_pca = pca.fit_transform(F.normalize(torch.tensor(emb_origin)*torch.sqrt(D)))\n",
    "#feature_pca = pca.fit_transform(torch.tensor(emb_origin))\n",
    "visualize(feature_pca[:,1],feature_pca[:,2],labels,lap_normalized,0.2)"
   ]
  },
  {
   "cell_type": "code",
   "execution_count": null,
   "id": "84a29715",
   "metadata": {},
   "outputs": [],
   "source": [
    "pca = decomposition.PCA(n_components=10)\n",
    "feature_pca = pca.fit_transform(feature*torch.sqrt(D))\n",
    "#feature_pca = pca.fit_transform(torch.tensor(emb_origin))\n",
    "visualize(feature_pca[:,0],feature_pca[:,1],labels)"
   ]
  },
  {
   "cell_type": "code",
   "execution_count": null,
   "id": "9a06a9a9",
   "metadata": {},
   "outputs": [],
   "source": [
    "classify(torch.tensor(feature)*torch.sqrt(D), args.dataset, per_class='20')\n",
    "classify(torch.tensor(feature)*torch.sqrt(D), args.dataset, per_class='5')"
   ]
  },
  {
   "cell_type": "code",
   "execution_count": null,
   "id": "0ebb0677",
   "metadata": {},
   "outputs": [],
   "source": [
    "pca = decomposition.PCA(n_components=10)\n",
    "feature_pca = pca.fit_transform(F.normalize(torch.tensor(feature)))\n",
    "#feature_pca = pca.fit_transform(torch.tensor(emb_origin))\n",
    "visualize(feature_pca[:,1],feature_pca[:,2],labels)"
   ]
  }
 ],
 "metadata": {
  "kernelspec": {
   "display_name": "Python 3 (ipykernel)",
   "language": "python",
   "name": "python3"
  },
  "language_info": {
   "codemirror_mode": {
    "name": "ipython",
    "version": 3
   },
   "file_extension": ".py",
   "mimetype": "text/x-python",
   "name": "python",
   "nbconvert_exporter": "python",
   "pygments_lexer": "ipython3",
   "version": "3.9.12"
  }
 },
 "nbformat": 4,
 "nbformat_minor": 5
}
