{
 "cells": [
  {
   "cell_type": "code",
   "execution_count": 2,
   "id": "1b4a8b32",
   "metadata": {},
   "outputs": [],
   "source": [
    "import torch\n",
    "from utils import load_adj_neg, load_dataset_adj_lap\n",
    "from model import Encoder\n",
    "from model import Model\n",
    "import argparse\n",
    "from torch_geometric.nn import GCNConv\n",
    "import torch.nn.functional as F\n",
    "import networkx as nx"
   ]
  },
  {
   "cell_type": "code",
   "execution_count": 3,
   "id": "85c127cf",
   "metadata": {},
   "outputs": [],
   "source": [
    "# NOTE: Splits are randomized and results might slightly deviate from reported numbers in the paper.\n",
    "import torch\n",
    "from utils import load_adj_neg, load_dataset_adj_lap\n",
    "from ssgc import Net\n",
    "import argparse\n",
    "import numpy as np\n",
    "from classification import classify\n",
    "parser = argparse.ArgumentParser()\n",
    "dataset = 'cora'\n",
    "if dataset=='cora':\n",
    "    nhid = 512\n",
    "    output = 512\n",
    "    num_nodes = 2708\n",
    "    num_features = 1433\n",
    "    lr = 0.001\n",
    "    weight_decay = 5e-4\n",
    "    epoch = 40\n",
    "    sample = 2\n",
    "if dataset=='citeseer':\n",
    "    nhid = 512\n",
    "    output = 512\n",
    "    num_nodes = 3327\n",
    "    num_features = 3703\n",
    "    lr = 0.0001\n",
    "    weight_decay = 1e-4\n",
    "    epoch = 160\n",
    "    sample = 5\n",
    "if dataset=='pubmed':\n",
    "    nhid = 256\n",
    "    output = 256\n",
    "    num_nodes = 19717\n",
    "    num_features = 500\n",
    "    lr = 0.02\n",
    "    weight_decay = 1e-5\n",
    "    epoch = 40\n",
    "    sample = 3\n",
    "parser.add_argument('--dataset', type=str, default=dataset,\n",
    "                    help='dataset')\n",
    "parser.add_argument('--seed', type=int, default=123,\n",
    "                    help='seed')\n",
    "parser.add_argument('--nhid', type=int, default=nhid,\n",
    "                    help='hidden size')\n",
    "parser.add_argument('--output', type=int, default=output,\n",
    "                    help='output size')\n",
    "parser.add_argument('--lr', type=float, default=lr,\n",
    "                    help='learning rate')\n",
    "parser.add_argument('--weight_decay', type=float, default=weight_decay,\n",
    "                    help='weight decay')\n",
    "parser.add_argument('--epochs', type=int, default=epoch,\n",
    "                    help='maximum number of epochs')\n",
    "parser.add_argument('--sample', type=int, default=sample,\n",
    "                    help='    ')\n",
    "parser.add_argument('--num_nodes', type=int, default=num_nodes,\n",
    "                    help='    ')\n",
    "parser.add_argument('--num_features', type=int, default=num_features,\n",
    "                    help='    ')\n",
    "\n",
    "label_file = open(\"data/{}{}\".format(dataset,\"_labels.txt\"), 'r')\n",
    "label_text = label_file.readlines()\n",
    "labels = []\n",
    "for line in label_text:\n",
    "    if line.strip('\\n'):\n",
    "        line = line.strip('\\n').split(' ')\n",
    "        labels.append(int(line[1]))\n",
    "labels = torch.tensor(labels)\n",
    "\n",
    "\n",
    "args = parser.parse_args(\"\")\n",
    "args.device = 'cpu'\n",
    "torch.manual_seed(args.seed)\n",
    "device = torch.device('cuda' if torch.cuda.is_available() else 'cpu')\n",
    "\n",
    "feature, adj_normalized, lap_normalized= load_dataset_adj_lap(args.dataset)\n",
    "feature = feature.to(device)\n",
    "adj_normalized = adj_normalized.to(device)\n",
    "lap_normalized = lap_normalized.to(device)\n",
    "K = 8\n",
    "feature_smoothed = feature\n",
    "for i in range(K):\n",
    "    feature = torch.mm(adj_normalized, feature)\n",
    "    feature_smoothed = feature_smoothed + feature\n",
    "feature_smoothed/=K\n"
   ]
  },
  {
   "cell_type": "code",
   "execution_count": 7,
   "id": "60fec101",
   "metadata": {},
   "outputs": [],
   "source": [
    "torch.sum(adj_normalized,dim=0)\n",
    "D = torch.unsqueeze(torch.sum(lap_normalized>0,dim=0),1)"
   ]
  },
  {
   "cell_type": "code",
   "execution_count": 3,
   "id": "abaf99b9",
   "metadata": {},
   "outputs": [
    {
     "name": "stdout",
     "output_type": "stream",
     "text": [
      "81.59390444810545\n",
      "1.2038835463852553\n",
      "71.03032600454888\n",
      "4.572080755555725\n"
     ]
    }
   ],
   "source": [
    "classify(feature_smoothed, args.dataset, per_class='20')\n",
    "classify(feature_smoothed, args.dataset, per_class='5')"
   ]
  },
  {
   "cell_type": "code",
   "execution_count": 8,
   "id": "0f51e857",
   "metadata": {},
   "outputs": [
    {
     "data": {
      "text/plain": [
       "tensor([[3],\n",
       "        [3],\n",
       "        [5],\n",
       "        ...,\n",
       "        [1],\n",
       "        [4],\n",
       "        [4]])"
      ]
     },
     "execution_count": 8,
     "metadata": {},
     "output_type": "execute_result"
    }
   ],
   "source": [
    "D"
   ]
  },
  {
   "cell_type": "code",
   "execution_count": 4,
   "id": "e5a99244",
   "metadata": {},
   "outputs": [
    {
     "name": "stdout",
     "output_type": "stream",
     "text": [
      "tensor(-0.3437, grad_fn=<DivBackward0>)\n",
      "tensor(-0.4679, grad_fn=<DivBackward0>)\n",
      "tensor(-0.6273, grad_fn=<DivBackward0>)\n",
      "tensor(-0.8253, grad_fn=<DivBackward0>)\n",
      "tensor(-1.0651, grad_fn=<DivBackward0>)\n",
      "tensor(-1.3499, grad_fn=<DivBackward0>)\n",
      "tensor(-1.6829, grad_fn=<DivBackward0>)\n",
      "tensor(-2.0674, grad_fn=<DivBackward0>)\n",
      "tensor(-2.5065, grad_fn=<DivBackward0>)\n",
      "tensor(-3.0035, grad_fn=<DivBackward0>)\n",
      "tensor(-3.5616, grad_fn=<DivBackward0>)\n",
      "tensor(-4.1842, grad_fn=<DivBackward0>)\n",
      "tensor(-4.8746, grad_fn=<DivBackward0>)\n",
      "tensor(-5.6360, grad_fn=<DivBackward0>)\n",
      "tensor(-6.4719, grad_fn=<DivBackward0>)\n",
      "tensor(-7.3856, grad_fn=<DivBackward0>)\n",
      "tensor(-8.3804, grad_fn=<DivBackward0>)\n",
      "tensor(-9.4598, grad_fn=<DivBackward0>)\n",
      "tensor(-10.6270, grad_fn=<DivBackward0>)\n",
      "tensor(-11.8854, grad_fn=<DivBackward0>)\n",
      "tensor(-13.2383, grad_fn=<DivBackward0>)\n",
      "tensor(-14.6891, grad_fn=<DivBackward0>)\n",
      "tensor(-16.2411, grad_fn=<DivBackward0>)\n",
      "tensor(-17.8974, grad_fn=<DivBackward0>)\n",
      "tensor(-19.6614, grad_fn=<DivBackward0>)\n",
      "tensor(-21.5362, grad_fn=<DivBackward0>)\n",
      "tensor(-23.5251, grad_fn=<DivBackward0>)\n",
      "tensor(-25.6310, grad_fn=<DivBackward0>)\n",
      "tensor(-27.8572, grad_fn=<DivBackward0>)\n",
      "tensor(-30.2066, grad_fn=<DivBackward0>)\n",
      "tensor(-32.6822, grad_fn=<DivBackward0>)\n",
      "tensor(-35.2869, grad_fn=<DivBackward0>)\n",
      "tensor(-38.0237, grad_fn=<DivBackward0>)\n",
      "tensor(-40.8953, grad_fn=<DivBackward0>)\n",
      "tensor(-43.9044, grad_fn=<DivBackward0>)\n",
      "tensor(-47.0538, grad_fn=<DivBackward0>)\n",
      "tensor(-50.3461, grad_fn=<DivBackward0>)\n",
      "tensor(-53.7839, grad_fn=<DivBackward0>)\n",
      "tensor(-57.3697, grad_fn=<DivBackward0>)\n",
      "tensor(-61.1059, grad_fn=<DivBackward0>)\n"
     ]
    }
   ],
   "source": [
    "neg_sample = torch.from_numpy(load_adj_neg(args.num_nodes, args.sample)).float().to(device)\n",
    "\n",
    "model = Net(args).to(device)\n",
    "optimizer = torch.optim.Adam(model.parameters(), lr=args.lr, weight_decay=args.weight_decay)\n",
    "model.train()\n",
    "Lambda = 0.9\n",
    "for epoch in range(args.epochs):\n",
    "\n",
    "    optimizer.zero_grad()\n",
    "    out = model(feature_smoothed)\n",
    "\n",
    "    loss = (Lambda*torch.trace(torch.mm(torch.mm(torch.transpose(out, 0, 1), neg_sample), out)) - torch.trace(\n",
    "        torch.mm(torch.mm(torch.transpose(out, 0, 1), lap_normalized), out)))/out.shape[0]\n",
    "\n",
    "    print(loss)\n",
    "    loss.backward()\n",
    "    optimizer.step()\n",
    "\n",
    "model.eval()\n",
    "emb_origin = model(feature_smoothed).cpu().detach().numpy()"
   ]
  },
  {
   "cell_type": "code",
   "execution_count": 5,
   "id": "34113169",
   "metadata": {},
   "outputs": [
    {
     "name": "stdout",
     "output_type": "stream",
     "text": [
      "82.47858319604612\n",
      "1.2348732162685598\n",
      "77.33206974981046\n",
      "2.489163852231722\n"
     ]
    }
   ],
   "source": [
    "classify(emb_origin, args.dataset, per_class='20')\n",
    "classify(emb_origin, args.dataset, per_class='5')"
   ]
  },
  {
   "cell_type": "code",
   "execution_count": 6,
   "id": "efd2005a",
   "metadata": {},
   "outputs": [
    {
     "data": {
      "text/plain": [
       "<matplotlib.collections.PathCollection at 0x7f30f33a4e20>"
      ]
     },
     "execution_count": 6,
     "metadata": {},
     "output_type": "execute_result"
    },
    {
     "data": {
      "image/png": "[encoded data removed]",
      "text/plain": [
       "<Figure size 432x288 with 1 Axes>"
      ]
     },
     "metadata": {
      "needs_background": "light"
     },
     "output_type": "display_data"
    }
   ],
   "source": [
    "\n",
    "from sklearn import decomposition\n",
    "from sklearn import datasets\n",
    "from sklearn.preprocessing import StandardScaler\n",
    "\n",
    "\n",
    "import numpy as np\n",
    "pca = decomposition.PCA(n_components=4)\n",
    "emb_pca = pca.fit_transform(emb_origin)\n",
    "\n",
    "import matplotlib.pyplot as plt\n",
    "import matplotlib\n",
    "\n",
    "\n",
    "\n",
    "emb_pca_x = emb_pca[:,1]\n",
    "emb_pca_y = emb_pca[:,2]\n",
    "ss = 1\n",
    "#plt.scatter(emb_pca_x,emb_pca_y,s=ss,color='r')\n",
    "plt.scatter(emb_pca_x[np.nonzero(labels == 0)],emb_pca_y[np.nonzero(labels == 0)],s=ss,color='r')\n",
    "plt.scatter(emb_pca_x[np.nonzero(labels == 1)],emb_pca_y[np.nonzero(labels == 1)],s=ss,color='b')\n",
    "plt.scatter(emb_pca_x[np.nonzero(labels == 2)],emb_pca_y[np.nonzero(labels == 2)],s=ss,color='g')\n",
    "plt.scatter(emb_pca_x[np.nonzero(labels == 3)],emb_pca_y[np.nonzero(labels == 3)],s=ss,color='y')\n",
    "plt.scatter(emb_pca_x[np.nonzero(labels == 4)],emb_pca_y[np.nonzero(labels == 4)],s=ss,color='c')\n",
    "plt.scatter(emb_pca_x[np.nonzero(labels == 5)],emb_pca_y[np.nonzero(labels == 5)],s=ss,color='k')"
   ]
  },
  {
   "cell_type": "code",
   "execution_count": 7,
   "id": "18e066da",
   "metadata": {},
   "outputs": [],
   "source": [
    "neg_sample = torch.from_numpy(load_adj_neg(args.num_nodes, args.sample)).float().to(device)\n",
    "\n",
    "model_orth = Net(args,bias=False).to(device)\n",
    "optimizer = torch.optim.Adam(model_orth.parameters(), lr=args.lr, weight_decay=args.weight_decay)\n"
   ]
  },
  {
   "cell_type": "code",
   "execution_count": 8,
   "id": "21370fee",
   "metadata": {},
   "outputs": [
    {
     "name": "stdout",
     "output_type": "stream",
     "text": [
      "tensor(15.3917, grad_fn=<AddBackward0>)\n",
      "tensor(14.6188, grad_fn=<AddBackward0>)\n",
      "tensor(13.8078, grad_fn=<AddBackward0>)\n",
      "tensor(12.9652, grad_fn=<AddBackward0>)\n",
      "tensor(12.0986, grad_fn=<AddBackward0>)\n",
      "tensor(11.2158, grad_fn=<AddBackward0>)\n",
      "tensor(10.3244, grad_fn=<AddBackward0>)\n",
      "tensor(9.4307, grad_fn=<AddBackward0>)\n",
      "tensor(8.5399, grad_fn=<AddBackward0>)\n",
      "tensor(7.6556, grad_fn=<AddBackward0>)\n",
      "tensor(6.7805, grad_fn=<AddBackward0>)\n",
      "tensor(5.9171, grad_fn=<AddBackward0>)\n",
      "tensor(5.0686, grad_fn=<AddBackward0>)\n",
      "tensor(4.2398, grad_fn=<AddBackward0>)\n",
      "tensor(3.4378, grad_fn=<AddBackward0>)\n",
      "tensor(2.6745, grad_fn=<AddBackward0>)\n",
      "tensor(1.9689, grad_fn=<AddBackward0>)\n",
      "tensor(1.3514, grad_fn=<AddBackward0>)\n",
      "tensor(0.8661, grad_fn=<AddBackward0>)\n",
      "tensor(0.5620, grad_fn=<AddBackward0>)\n",
      "tensor(0.4584, grad_fn=<AddBackward0>)\n",
      "tensor(0.5045, grad_fn=<AddBackward0>)\n",
      "tensor(0.5975, grad_fn=<AddBackward0>)\n",
      "tensor(0.6438, grad_fn=<AddBackward0>)\n",
      "tensor(0.5923, grad_fn=<AddBackward0>)\n",
      "tensor(0.4319, grad_fn=<AddBackward0>)\n",
      "tensor(0.1785, grad_fn=<AddBackward0>)\n",
      "tensor(-0.1350, grad_fn=<AddBackward0>)\n",
      "tensor(-0.4649, grad_fn=<AddBackward0>)\n",
      "tensor(-0.7568, grad_fn=<AddBackward0>)\n",
      "tensor(-0.9447, grad_fn=<AddBackward0>)\n",
      "tensor(-0.9791, grad_fn=<AddBackward0>)\n",
      "tensor(-0.8953, grad_fn=<AddBackward0>)\n",
      "tensor(-0.7968, grad_fn=<AddBackward0>)\n",
      "tensor(-0.7651, grad_fn=<AddBackward0>)\n",
      "tensor(-0.8337, grad_fn=<AddBackward0>)\n",
      "tensor(-1.0018, grad_fn=<AddBackward0>)\n",
      "tensor(-1.2402, grad_fn=<AddBackward0>)\n",
      "tensor(-1.4751, grad_fn=<AddBackward0>)\n",
      "tensor(-1.5571, grad_fn=<AddBackward0>)\n"
     ]
    }
   ],
   "source": [
    "model_orth.train()\n",
    "Lambda = 0.9\n",
    "for epoch in range(args.epochs):\n",
    "\n",
    "    optimizer.zero_grad()\n",
    "    out = model_orth(feature_smoothed)\n",
    "\n",
    "    loss = (Lambda*torch.trace(torch.mm(torch.mm(torch.transpose(out, 0, 1), neg_sample), out)) - torch.trace(\n",
    "        torch.mm(torch.mm(torch.transpose(out, 0, 1), lap_normalized), out)))/out.shape[0] + torch.norm(\n",
    "        torch.mm(model_orth.conv1.weight,torch.transpose( model_orth.conv1.weight,0,1)) - torch.eye(args.output) )\n",
    "\n",
    "    print(loss)\n",
    "    loss.backward()\n",
    "    optimizer.step()\n",
    "\n",
    "model_orth.eval()\n",
    "emb_orth = model_orth(feature_smoothed).cpu().detach().numpy()"
   ]
  },
  {
   "cell_type": "code",
   "execution_count": 9,
   "id": "eeb540b6",
   "metadata": {},
   "outputs": [
    {
     "name": "stdout",
     "output_type": "stream",
     "text": [
      "81.28747940691926\n",
      "1.2648540416415366\n",
      "72.6125852918878\n",
      "4.0209714759837905\n"
     ]
    }
   ],
   "source": [
    "classify(emb_orth, args.dataset, per_class='20')\n",
    "classify(emb_orth, args.dataset, per_class='5')"
   ]
  },
  {
   "cell_type": "code",
   "execution_count": 10,
   "id": "3acc3b43",
   "metadata": {},
   "outputs": [
    {
     "data": {
      "text/plain": [
       "tensor(797.7436, grad_fn=<CopyBackwards>)"
      ]
     },
     "execution_count": 10,
     "metadata": {},
     "output_type": "execute_result"
    }
   ],
   "source": [
    "torch.norm(\n",
    "        torch.mm(model.conv1.weight,torch.transpose( model.conv1.weight,0,1)) - torch.eye(args.output) )"
   ]
  },
  {
   "cell_type": "code",
   "execution_count": 11,
   "id": "d208bd83",
   "metadata": {},
   "outputs": [
    {
     "data": {
      "text/plain": [
       "tensor([[ 2.9761, -1.2811, -1.5181,  ..., -1.0226,  0.3866, -0.0861],\n",
       "        [-1.2811,  2.7082,  1.3592,  ...,  0.9601,  0.0678, -0.2221],\n",
       "        [-1.5181,  1.3592,  3.0880,  ...,  1.6565,  0.6717, -0.9721],\n",
       "        ...,\n",
       "        [-1.0226,  0.9601,  1.6565,  ...,  2.8898,  1.2071, -0.7645],\n",
       "        [ 0.3866,  0.0678,  0.6717,  ...,  1.2071,  2.9864, -1.2309],\n",
       "        [-0.0861, -0.2221, -0.9721,  ..., -0.7645, -1.2309,  2.9186]],\n",
       "       grad_fn=<MmBackward0>)"
      ]
     },
     "execution_count": 11,
     "metadata": {},
     "output_type": "execute_result"
    }
   ],
   "source": [
    "torch.mm(model.conv1.weight,torch.transpose( model.conv1.weight,0,1))"
   ]
  },
  {
   "cell_type": "code",
   "execution_count": null,
   "id": "dc788b9d",
   "metadata": {},
   "outputs": [],
   "source": [
    "\n"
   ]
  },
  {
   "cell_type": "code",
   "execution_count": 12,
   "id": "3a229cb1",
   "metadata": {},
   "outputs": [
    {
     "data": {
      "text/plain": [
       "<matplotlib.collections.PathCollection at 0x7f30f3270f70>"
      ]
     },
     "execution_count": 12,
     "metadata": {},
     "output_type": "execute_result"
    },
    {
     "data": {
      "image/png": "[encoded data removed]",
      "text/plain": [
       "<Figure size 432x288 with 1 Axes>"
      ]
     },
     "metadata": {
      "needs_background": "light"
     },
     "output_type": "display_data"
    }
   ],
   "source": [
    "import numpy as np\n",
    "pca = decomposition.PCA(n_components=4)\n",
    "emb_pca = pca.fit_transform(emb_orth)\n",
    "\n",
    "import matplotlib.pyplot as plt\n",
    "import matplotlib\n",
    "\n",
    "\n",
    "\n",
    "emb_pca_x = emb_pca[:,1]\n",
    "emb_pca_y = emb_pca[:,2]\n",
    "ss = 1\n",
    "#plt.scatter(emb_pca_x,emb_pca_y,s=ss,color='r')\n",
    "plt.scatter(emb_pca_x[np.nonzero(labels == 0)],emb_pca_y[np.nonzero(labels == 0)],s=ss,color='r')\n",
    "plt.scatter(emb_pca_x[np.nonzero(labels == 1)],emb_pca_y[np.nonzero(labels == 1)],s=ss,color='b')\n",
    "plt.scatter(emb_pca_x[np.nonzero(labels == 2)],emb_pca_y[np.nonzero(labels == 2)],s=ss,color='g')\n",
    "plt.scatter(emb_pca_x[np.nonzero(labels == 3)],emb_pca_y[np.nonzero(labels == 3)],s=ss,color='y')\n",
    "plt.scatter(emb_pca_x[np.nonzero(labels == 4)],emb_pca_y[np.nonzero(labels == 4)],s=ss,color='c')\n",
    "plt.scatter(emb_pca_x[np.nonzero(labels == 5)],emb_pca_y[np.nonzero(labels == 5)],s=ss,color='k')"
   ]
  },
  {
   "cell_type": "code",
   "execution_count": 13,
   "id": "77a19211",
   "metadata": {},
   "outputs": [
    {
     "ename": "SyntaxError",
     "evalue": "invalid syntax (3253365344.py, line 1)",
     "output_type": "error",
     "traceback": [
      "\u001b[0;36m  Input \u001b[0;32mIn [13]\u001b[0;36m\u001b[0m\n\u001b[0;31m    cora without orth\u001b[0m\n\u001b[0m         ^\u001b[0m\n\u001b[0;31mSyntaxError\u001b[0m\u001b[0;31m:\u001b[0m invalid syntax\n"
     ]
    }
   ],
   "source": [
    "cora without orth\n",
    "82.26276771004942\n",
    "1.254241627563159\n",
    "77.16148597422288\n",
    "2.6389531638400907\n",
    "with orth\n",
    "81.75947281713344\n",
    "1.246101318967512\n",
    "72.3131159969674\n",
    "4.046646313156723\n",
    "with raw feature_smoothed\n",
    "81.59390444810545\n",
    "1.2038835463852553\n",
    "71.03032600454888\n",
    "4.572080755555725\n",
    "\n",
    "citeseer without orth\n",
    "70.42112082928408\n",
    "1.1220317077364168\n",
    "66.50749923477197\n",
    "2.431697731089557\n",
    "with orth\n",
    "70.94978943958535\n",
    "1.0752492722237095\n",
    "66.09978573614937\n",
    "2.540035128432411\n",
    "with raw feature_smoothed\n",
    "69.89050858438614\n",
    "1.2455656779678324\n",
    "60.153657790021434\n",
    "4.213946942708061\n",
    "\n",
    "\n",
    "pubmed without orth\n",
    "40 epoch\n",
    "74.67142930040312   claimed 77.4±1.9 \n",
    "2.381893996454681\n",
    "64.65291816935033   claimed 66.0±5.2b\n",
    "5.362018399570344\n",
    "\n",
    "with ort\n",
    "40 epoch\n",
    "74.04715007399092\n",
    "2.5807319620069507\n",
    "66.49210138670189\n",
    "4.908270660412052\n",
    "\n",
    "raw feature smoothed\n",
    "74.04715007399092\n",
    "2.5807319620069507\n",
    "66.49210138670189\n",
    "4.908270660412052\n",
    "\n",
    "pubmed 80 epoch wihtout orth\n",
    "73.68137980303108    \n",
    "2.4570598828041033\n",
    "63.52598161223142    \n",
    "5.489841045145188\n",
    "\n",
    "pubmed 80 epoch with orth\n",
    "72.51885492677451\n",
    "2.5179344333050375\n",
    "66.14364809264997\n",
    "4.886909664894386"
   ]
  },
  {
   "cell_type": "code",
   "execution_count": null,
   "id": "0e2f3974",
   "metadata": {},
   "outputs": [],
   "source": []
  },
  {
   "cell_type": "code",
   "execution_count": null,
   "id": "324f13ae",
   "metadata": {},
   "outputs": [],
   "source": []
  },
  {
   "cell_type": "code",
   "execution_count": null,
   "id": "675c38fd",
   "metadata": {},
   "outputs": [],
   "source": []
  }
 ],
 "metadata": {
  "kernelspec": {
   "display_name": "Python 3 (ipykernel)",
   "language": "python",
   "name": "python3"
  },
  "language_info": {
   "codemirror_mode": {
    "name": "ipython",
    "version": 3
   },
   "file_extension": ".py",
   "mimetype": "text/x-python",
   "name": "python",
   "nbconvert_exporter": "python",
   "pygments_lexer": "ipython3",
   "version": "3.9.12"
  }
 },
 "nbformat": 4,
 "nbformat_minor": 5
}
