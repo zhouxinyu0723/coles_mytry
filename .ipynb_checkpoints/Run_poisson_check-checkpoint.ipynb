{
 "cells": [
  {
   "cell_type": "code",
   "execution_count": 1,
   "id": "1b4a8b32",
   "metadata": {},
   "outputs": [],
   "source": [
    "import torch\n",
    "from utils import load_adj_neg, load_dataset_adj_lap\n",
    "from model import Encoder\n",
    "from model import Model\n",
    "import argparse\n",
    "from torch_geometric.nn import GCNConv\n",
    "import torch.nn.functional as F\n",
    "import networkx as nx"
   ]
  },
  {
   "cell_type": "code",
   "execution_count": 2,
   "id": "467b3274",
   "metadata": {},
   "outputs": [],
   "source": [
    "from sklearn import decomposition\n",
    "from sklearn import datasets\n",
    "from sklearn.preprocessing import StandardScaler\n",
    "import numpy as np\n",
    "import matplotlib.pyplot as plt\n",
    "import matplotlib\n",
    "import pylab as pl\n",
    "from matplotlib import collections  as mc\n",
    "def visualize(x,y,labels,lap = None, width = 5):\n",
    "    ss = 1\n",
    "    #plt.scatter(emb_pca_x,emb_pca_y,s=ss,color='r')\n",
    "    label_num = labels.max().item()\n",
    "    colors = ['r','g','b','c','m','y','k','w']\n",
    "    if lap is not None:\n",
    "        a = lap_normalized.to_sparse()._indices()\n",
    "        lines = [[(x[a[0,i]],y[a[0,i]]),(x[a[1,i]],y[a[1,i]])] for i in range(a.shape[1])]\n",
    "        lc = mc.LineCollection(lines, colors='k', linewidths=width/10)\n",
    "        fig, ax = pl.subplots()\n",
    "        ax.add_collection(lc)\n",
    "        ax.autoscale()\n",
    "        ax.margins(0.1)\n",
    "    for i in range(label_num):\n",
    "        plt.scatter(x[np.nonzero(labels == i)],y[np.nonzero(labels == i)],s=ss,color=colors[i])\n",
    "    "
   ]
  },
  {
   "cell_type": "code",
   "execution_count": 16,
   "id": "85c127cf",
   "metadata": {},
   "outputs": [],
   "source": [
    "# NOTE: Splits are randomized and results might slightly deviate from reported numbers in the paper.\n",
    "import torch\n",
    "from utils import load_adj_neg, load_dataset_adj_lap\n",
    "from ssgc import Net\n",
    "import argparse\n",
    "import numpy as np\n",
    "from classification import classify\n",
    "parser = argparse.ArgumentParser()\n",
    "dataset = 'cora'\n",
    "if dataset=='cora':\n",
    "    nhid = 512\n",
    "    output = 512\n",
    "    num_nodes = 2708\n",
    "    num_features = 1433\n",
    "    lr = 0.001\n",
    "    weight_decay = 5e-4\n",
    "    epoch = 40\n",
    "    sample = 2\n",
    "if dataset=='citeseer':\n",
    "    nhid = 512\n",
    "    output = 512\n",
    "    num_nodes = 3327\n",
    "    num_features = 3703\n",
    "    lr = 0.0001\n",
    "    weight_decay = 1e-4\n",
    "    epoch = 160\n",
    "    sample = 5\n",
    "if dataset=='pubmed':\n",
    "    nhid = 256\n",
    "    output = 256\n",
    "    num_nodes = 19717\n",
    "    num_features = 500\n",
    "    lr = 0.02\n",
    "    weight_decay = 1e-5\n",
    "    epoch = 40\n",
    "    sample = 3\n",
    "parser.add_argument('--dataset', type=str, default=dataset,\n",
    "                    help='dataset')\n",
    "parser.add_argument('--seed', type=int, default=123,\n",
    "                    help='seed')\n",
    "parser.add_argument('--nhid', type=int, default=nhid,\n",
    "                    help='hidden size')\n",
    "parser.add_argument('--output', type=int, default=output,\n",
    "                    help='output size')\n",
    "parser.add_argument('--lr', type=float, default=lr,\n",
    "                    help='learning rate')\n",
    "parser.add_argument('--weight_decay', type=float, default=weight_decay,\n",
    "                    help='weight decay')\n",
    "parser.add_argument('--epochs', type=int, default=epoch,\n",
    "                    help='maximum number of epochs')\n",
    "parser.add_argument('--sample', type=int, default=sample,\n",
    "                    help='    ')\n",
    "parser.add_argument('--num_nodes', type=int, default=num_nodes,\n",
    "                    help='    ')\n",
    "parser.add_argument('--num_features', type=int, default=num_features,\n",
    "                    help='    ')\n",
    "\n",
    "label_file = open(\"data/{}{}\".format(dataset,\"_labels.txt\"), 'r')\n",
    "label_text = label_file.readlines()\n",
    "labels = []\n",
    "for line in label_text:\n",
    "    if line.strip('\\n'):\n",
    "        line = line.strip('\\n').split(' ')\n",
    "        labels.append(int(line[1]))\n",
    "labels = torch.tensor(labels)\n",
    "\n",
    "\n",
    "args = parser.parse_args(\"\")\n",
    "args.device = 'cpu'\n",
    "torch.manual_seed(args.seed)\n",
    "device = torch.device('cuda' if torch.cuda.is_available() else 'cpu')\n",
    "\n",
    "feature, adj_normalized, lap_normalized= load_dataset_adj_lap(args.dataset)\n",
    "feature = feature.to(device)\n",
    "adj_normalized = adj_normalized.to(device)\n",
    "lap_normalized = lap_normalized.to(device)\n",
    "D = torch.unsqueeze(torch.sum(lap_normalized>0,dim=0),1)\n",
    "\n",
    "K = 8\n",
    "\n",
    "feature_poisson_origin = F.normalize(feature)\n",
    "feature_poisson_origin = feature_poisson_origin - torch.mean(feature_poisson_origin,dim=0)\n",
    "feature_smoothed_poisson = torch.zeros(feature.shape)\n",
    "adj_poisson = (adj_normalized>0)/D\n",
    "adj_extrinsic_poisson = adj_poisson * (1 - torch.eye(adj_poisson.shape[0]))\n",
    "\n",
    "for i in range(20):\n",
    "    feature_smoothed_poisson = feature_poisson_origin/D + torch.mm(adj_extrinsic_poisson, feature_smoothed_poisson)\n"
   ]
  },
  {
   "cell_type": "code",
   "execution_count": 17,
   "id": "d120e27d",
   "metadata": {},
   "outputs": [
    {
     "name": "stdout",
     "output_type": "stream",
     "text": [
      "82.501647446458\n",
      "1.1428995798576929\n",
      "76.51099317664897\n",
      "2.320382303220732\n"
     ]
    }
   ],
   "source": [
    "classify(F.normalize(feature_smoothed_poisson)*(torch.sqrt(D)), args.dataset, per_class='20')\n",
    "classify(F.normalize(feature_smoothed_poisson)*(torch.sqrt(D)), args.dataset, per_class='5')"
   ]
  },
  {
   "cell_type": "code",
   "execution_count": 14,
   "id": "48a07301",
   "metadata": {},
   "outputs": [
    {
     "data": {
      "image/png": "[encoded data removed]",
      "text/plain": [
       "<Figure size 432x288 with 1 Axes>"
      ]
     },
     "metadata": {
      "needs_background": "light"
     },
     "output_type": "display_data"
    }
   ],
   "source": [
    "feature_pca = transformer.fit_transform(F.normalize(feature_smoothed_poisson)*(torch.sqrt(D)))\n",
    "#feature_pca = transformer.fit_transform(feature_smoothed_poisson*(torch.sqrt(D)))\n",
    "visualize(feature_pca[:,2],feature_pca[:,3],labels)\n"
   ]
  },
  {
   "cell_type": "code",
   "execution_count": 11,
   "id": "abaf99b9",
   "metadata": {},
   "outputs": [
    {
     "name": "stderr",
     "output_type": "stream",
     "text": [
      "/home/xinyu/anaconda3/envs/condenv/lib/python3.9/site-packages/sklearn/svm/_base.py:1206: ConvergenceWarning: Liblinear failed to converge, increase the number of iterations.\n",
      "  warnings.warn(\n",
      "/home/xinyu/anaconda3/envs/condenv/lib/python3.9/site-packages/sklearn/svm/_base.py:1206: ConvergenceWarning: Liblinear failed to converge, increase the number of iterations.\n",
      "  warnings.warn(\n",
      "/home/xinyu/anaconda3/envs/condenv/lib/python3.9/site-packages/sklearn/svm/_base.py:1206: ConvergenceWarning: Liblinear failed to converge, increase the number of iterations.\n",
      "  warnings.warn(\n",
      "/home/xinyu/anaconda3/envs/condenv/lib/python3.9/site-packages/sklearn/svm/_base.py:1206: ConvergenceWarning: Liblinear failed to converge, increase the number of iterations.\n",
      "  warnings.warn(\n",
      "/home/xinyu/anaconda3/envs/condenv/lib/python3.9/site-packages/sklearn/svm/_base.py:1206: ConvergenceWarning: Liblinear failed to converge, increase the number of iterations.\n",
      "  warnings.warn(\n",
      "/home/xinyu/anaconda3/envs/condenv/lib/python3.9/site-packages/sklearn/svm/_base.py:1206: ConvergenceWarning: Liblinear failed to converge, increase the number of iterations.\n",
      "  warnings.warn(\n",
      "/home/xinyu/anaconda3/envs/condenv/lib/python3.9/site-packages/sklearn/svm/_base.py:1206: ConvergenceWarning: Liblinear failed to converge, increase the number of iterations.\n",
      "  warnings.warn(\n",
      "/home/xinyu/anaconda3/envs/condenv/lib/python3.9/site-packages/sklearn/svm/_base.py:1206: ConvergenceWarning: Liblinear failed to converge, increase the number of iterations.\n",
      "  warnings.warn(\n",
      "/home/xinyu/anaconda3/envs/condenv/lib/python3.9/site-packages/sklearn/svm/_base.py:1206: ConvergenceWarning: Liblinear failed to converge, increase the number of iterations.\n",
      "  warnings.warn(\n",
      "/home/xinyu/anaconda3/envs/condenv/lib/python3.9/site-packages/sklearn/svm/_base.py:1206: ConvergenceWarning: Liblinear failed to converge, increase the number of iterations.\n",
      "  warnings.warn(\n",
      "/home/xinyu/anaconda3/envs/condenv/lib/python3.9/site-packages/sklearn/svm/_base.py:1206: ConvergenceWarning: Liblinear failed to converge, increase the number of iterations.\n",
      "  warnings.warn(\n",
      "/home/xinyu/anaconda3/envs/condenv/lib/python3.9/site-packages/sklearn/svm/_base.py:1206: ConvergenceWarning: Liblinear failed to converge, increase the number of iterations.\n",
      "  warnings.warn(\n",
      "/home/xinyu/anaconda3/envs/condenv/lib/python3.9/site-packages/sklearn/svm/_base.py:1206: ConvergenceWarning: Liblinear failed to converge, increase the number of iterations.\n",
      "  warnings.warn(\n",
      "/home/xinyu/anaconda3/envs/condenv/lib/python3.9/site-packages/sklearn/svm/_base.py:1206: ConvergenceWarning: Liblinear failed to converge, increase the number of iterations.\n",
      "  warnings.warn(\n",
      "/home/xinyu/anaconda3/envs/condenv/lib/python3.9/site-packages/sklearn/svm/_base.py:1206: ConvergenceWarning: Liblinear failed to converge, increase the number of iterations.\n",
      "  warnings.warn(\n",
      "/home/xinyu/anaconda3/envs/condenv/lib/python3.9/site-packages/sklearn/svm/_base.py:1206: ConvergenceWarning: Liblinear failed to converge, increase the number of iterations.\n",
      "  warnings.warn(\n",
      "/home/xinyu/anaconda3/envs/condenv/lib/python3.9/site-packages/sklearn/svm/_base.py:1206: ConvergenceWarning: Liblinear failed to converge, increase the number of iterations.\n",
      "  warnings.warn(\n"
     ]
    },
    {
     "ename": "KeyboardInterrupt",
     "evalue": "",
     "output_type": "error",
     "traceback": [
      "\u001b[0;31m---------------------------------------------------------------------------\u001b[0m",
      "\u001b[0;31mKeyboardInterrupt\u001b[0m                         Traceback (most recent call last)",
      "Input \u001b[0;32mIn [11]\u001b[0m, in \u001b[0;36m<cell line: 1>\u001b[0;34m()\u001b[0m\n\u001b[0;32m----> 1\u001b[0m \u001b[43mclassify\u001b[49m\u001b[43m(\u001b[49m\u001b[43mfeature_smoothed_poisson\u001b[49m\u001b[43m,\u001b[49m\u001b[43m \u001b[49m\u001b[43margs\u001b[49m\u001b[38;5;241;43m.\u001b[39;49m\u001b[43mdataset\u001b[49m\u001b[43m,\u001b[49m\u001b[43m \u001b[49m\u001b[43mper_class\u001b[49m\u001b[38;5;241;43m=\u001b[39;49m\u001b[38;5;124;43m'\u001b[39;49m\u001b[38;5;124;43m20\u001b[39;49m\u001b[38;5;124;43m'\u001b[39;49m\u001b[43m)\u001b[49m\n\u001b[1;32m      2\u001b[0m classify(feature_smoothed_poisson, args\u001b[38;5;241m.\u001b[39mdataset, per_class\u001b[38;5;241m=\u001b[39m\u001b[38;5;124m'\u001b[39m\u001b[38;5;124m5\u001b[39m\u001b[38;5;124m'\u001b[39m)\n",
      "File \u001b[0;32m/mnt/d/time_eternity/desktop_download_doc_pic_vid_music/Desktop/fp_jupyter_conda/coles_orthonormal_and_poisson/coles_mytry/classification.py:46\u001b[0m, in \u001b[0;36mclassify\u001b[0;34m(embeds, dataset, per_class)\u001b[0m\n\u001b[1;32m     44\u001b[0m     train_embeds \u001b[38;5;241m=\u001b[39m embeds[[\u001b[38;5;28mid\u001b[39m \u001b[38;5;28;01mfor\u001b[39;00m \u001b[38;5;28mid\u001b[39m \u001b[38;5;129;01min\u001b[39;00m train_ids]]\n\u001b[1;32m     45\u001b[0m     test_embeds \u001b[38;5;241m=\u001b[39m embeds[[\u001b[38;5;28mid\u001b[39m \u001b[38;5;28;01mfor\u001b[39;00m \u001b[38;5;28mid\u001b[39m \u001b[38;5;129;01min\u001b[39;00m test_ids]]\n\u001b[0;32m---> 46\u001b[0m     acc \u001b[38;5;241m=\u001b[39m \u001b[43mrun_regression\u001b[49m\u001b[43m(\u001b[49m\u001b[43mtrain_embeds\u001b[49m\u001b[43m,\u001b[49m\u001b[43m \u001b[49m\u001b[43mtrain_labels\u001b[49m\u001b[43m,\u001b[49m\u001b[43m \u001b[49m\u001b[43mtest_embeds\u001b[49m\u001b[43m,\u001b[49m\u001b[43m \u001b[49m\u001b[43mtest_labels\u001b[49m\u001b[43m)\u001b[49m\n\u001b[1;32m     47\u001b[0m     ave\u001b[38;5;241m.\u001b[39mappend(acc)\n\u001b[1;32m     48\u001b[0m \u001b[38;5;28mprint\u001b[39m(np\u001b[38;5;241m.\u001b[39mmean(ave)\u001b[38;5;241m*\u001b[39m\u001b[38;5;241m100\u001b[39m)\n",
      "File \u001b[0;32m/mnt/d/time_eternity/desktop_download_doc_pic_vid_music/Desktop/fp_jupyter_conda/coles_orthonormal_and_poisson/coles_mytry/classification.py:14\u001b[0m, in \u001b[0;36mrun_regression\u001b[0;34m(train_embeds, train_labels, test_embeds, test_labels)\u001b[0m\n\u001b[1;32m     12\u001b[0m \u001b[38;5;28;01mfrom\u001b[39;00m \u001b[38;5;21;01msklearn\u001b[39;00m\u001b[38;5;21;01m.\u001b[39;00m\u001b[38;5;21;01mlinear_model\u001b[39;00m \u001b[38;5;28;01mimport\u001b[39;00m LogisticRegression\n\u001b[1;32m     13\u001b[0m log \u001b[38;5;241m=\u001b[39m LogisticRegression(solver\u001b[38;5;241m=\u001b[39m\u001b[38;5;124m'\u001b[39m\u001b[38;5;124mliblinear\u001b[39m\u001b[38;5;124m'\u001b[39m, multi_class\u001b[38;5;241m=\u001b[39m\u001b[38;5;124m'\u001b[39m\u001b[38;5;124movr\u001b[39m\u001b[38;5;124m'\u001b[39m)\n\u001b[0;32m---> 14\u001b[0m \u001b[43mlog\u001b[49m\u001b[38;5;241;43m.\u001b[39;49m\u001b[43mfit\u001b[49m\u001b[43m(\u001b[49m\u001b[43mtrain_embeds\u001b[49m\u001b[43m,\u001b[49m\u001b[43m \u001b[49m\u001b[43mtrain_labels\u001b[49m\u001b[43m)\u001b[49m\n\u001b[1;32m     15\u001b[0m predict \u001b[38;5;241m=\u001b[39m (log\u001b[38;5;241m.\u001b[39mpredict(test_embeds))\u001b[38;5;241m.\u001b[39mtolist()\n\u001b[1;32m     16\u001b[0m \u001b[38;5;66;03m#print(predict)\u001b[39;00m\n",
      "File \u001b[0;32m~/anaconda3/envs/condenv/lib/python3.9/site-packages/sklearn/linear_model/_logistic.py:1528\u001b[0m, in \u001b[0;36mLogisticRegression.fit\u001b[0;34m(self, X, y, sample_weight)\u001b[0m\n\u001b[1;32m   1522\u001b[0m \u001b[38;5;28;01mif\u001b[39;00m effective_n_jobs(\u001b[38;5;28mself\u001b[39m\u001b[38;5;241m.\u001b[39mn_jobs) \u001b[38;5;241m!=\u001b[39m \u001b[38;5;241m1\u001b[39m:\n\u001b[1;32m   1523\u001b[0m     warnings\u001b[38;5;241m.\u001b[39mwarn(\n\u001b[1;32m   1524\u001b[0m         \u001b[38;5;124m\"\u001b[39m\u001b[38;5;124m'\u001b[39m\u001b[38;5;124mn_jobs\u001b[39m\u001b[38;5;124m'\u001b[39m\u001b[38;5;124m > 1 does not have any effect when\u001b[39m\u001b[38;5;124m\"\u001b[39m\n\u001b[1;32m   1525\u001b[0m         \u001b[38;5;124m\"\u001b[39m\u001b[38;5;124m \u001b[39m\u001b[38;5;124m'\u001b[39m\u001b[38;5;124msolver\u001b[39m\u001b[38;5;124m'\u001b[39m\u001b[38;5;124m is set to \u001b[39m\u001b[38;5;124m'\u001b[39m\u001b[38;5;124mliblinear\u001b[39m\u001b[38;5;124m'\u001b[39m\u001b[38;5;124m. Got \u001b[39m\u001b[38;5;124m'\u001b[39m\u001b[38;5;124mn_jobs\u001b[39m\u001b[38;5;124m'\u001b[39m\u001b[38;5;124m\"\u001b[39m\n\u001b[1;32m   1526\u001b[0m         \u001b[38;5;124m\"\u001b[39m\u001b[38;5;124m = \u001b[39m\u001b[38;5;132;01m{}\u001b[39;00m\u001b[38;5;124m.\u001b[39m\u001b[38;5;124m\"\u001b[39m\u001b[38;5;241m.\u001b[39mformat(effective_n_jobs(\u001b[38;5;28mself\u001b[39m\u001b[38;5;241m.\u001b[39mn_jobs))\n\u001b[1;32m   1527\u001b[0m     )\n\u001b[0;32m-> 1528\u001b[0m \u001b[38;5;28mself\u001b[39m\u001b[38;5;241m.\u001b[39mcoef_, \u001b[38;5;28mself\u001b[39m\u001b[38;5;241m.\u001b[39mintercept_, n_iter_ \u001b[38;5;241m=\u001b[39m \u001b[43m_fit_liblinear\u001b[49m\u001b[43m(\u001b[49m\n\u001b[1;32m   1529\u001b[0m \u001b[43m    \u001b[49m\u001b[43mX\u001b[49m\u001b[43m,\u001b[49m\n\u001b[1;32m   1530\u001b[0m \u001b[43m    \u001b[49m\u001b[43my\u001b[49m\u001b[43m,\u001b[49m\n\u001b[1;32m   1531\u001b[0m \u001b[43m    \u001b[49m\u001b[38;5;28;43mself\u001b[39;49m\u001b[38;5;241;43m.\u001b[39;49m\u001b[43mC\u001b[49m\u001b[43m,\u001b[49m\n\u001b[1;32m   1532\u001b[0m \u001b[43m    \u001b[49m\u001b[38;5;28;43mself\u001b[39;49m\u001b[38;5;241;43m.\u001b[39;49m\u001b[43mfit_intercept\u001b[49m\u001b[43m,\u001b[49m\n\u001b[1;32m   1533\u001b[0m \u001b[43m    \u001b[49m\u001b[38;5;28;43mself\u001b[39;49m\u001b[38;5;241;43m.\u001b[39;49m\u001b[43mintercept_scaling\u001b[49m\u001b[43m,\u001b[49m\n\u001b[1;32m   1534\u001b[0m \u001b[43m    \u001b[49m\u001b[38;5;28;43mself\u001b[39;49m\u001b[38;5;241;43m.\u001b[39;49m\u001b[43mclass_weight\u001b[49m\u001b[43m,\u001b[49m\n\u001b[1;32m   1535\u001b[0m \u001b[43m    \u001b[49m\u001b[38;5;28;43mself\u001b[39;49m\u001b[38;5;241;43m.\u001b[39;49m\u001b[43mpenalty\u001b[49m\u001b[43m,\u001b[49m\n\u001b[1;32m   1536\u001b[0m \u001b[43m    \u001b[49m\u001b[38;5;28;43mself\u001b[39;49m\u001b[38;5;241;43m.\u001b[39;49m\u001b[43mdual\u001b[49m\u001b[43m,\u001b[49m\n\u001b[1;32m   1537\u001b[0m \u001b[43m    \u001b[49m\u001b[38;5;28;43mself\u001b[39;49m\u001b[38;5;241;43m.\u001b[39;49m\u001b[43mverbose\u001b[49m\u001b[43m,\u001b[49m\n\u001b[1;32m   1538\u001b[0m \u001b[43m    \u001b[49m\u001b[38;5;28;43mself\u001b[39;49m\u001b[38;5;241;43m.\u001b[39;49m\u001b[43mmax_iter\u001b[49m\u001b[43m,\u001b[49m\n\u001b[1;32m   1539\u001b[0m \u001b[43m    \u001b[49m\u001b[38;5;28;43mself\u001b[39;49m\u001b[38;5;241;43m.\u001b[39;49m\u001b[43mtol\u001b[49m\u001b[43m,\u001b[49m\n\u001b[1;32m   1540\u001b[0m \u001b[43m    \u001b[49m\u001b[38;5;28;43mself\u001b[39;49m\u001b[38;5;241;43m.\u001b[39;49m\u001b[43mrandom_state\u001b[49m\u001b[43m,\u001b[49m\n\u001b[1;32m   1541\u001b[0m \u001b[43m    \u001b[49m\u001b[43msample_weight\u001b[49m\u001b[38;5;241;43m=\u001b[39;49m\u001b[43msample_weight\u001b[49m\u001b[43m,\u001b[49m\n\u001b[1;32m   1542\u001b[0m \u001b[43m\u001b[49m\u001b[43m)\u001b[49m\n\u001b[1;32m   1543\u001b[0m \u001b[38;5;28mself\u001b[39m\u001b[38;5;241m.\u001b[39mn_iter_ \u001b[38;5;241m=\u001b[39m np\u001b[38;5;241m.\u001b[39marray([n_iter_])\n\u001b[1;32m   1544\u001b[0m \u001b[38;5;28;01mreturn\u001b[39;00m \u001b[38;5;28mself\u001b[39m\n",
      "File \u001b[0;32m~/anaconda3/envs/condenv/lib/python3.9/site-packages/sklearn/svm/_base.py:1186\u001b[0m, in \u001b[0;36m_fit_liblinear\u001b[0;34m(X, y, C, fit_intercept, intercept_scaling, class_weight, penalty, dual, verbose, max_iter, tol, random_state, multi_class, loss, epsilon, sample_weight)\u001b[0m\n\u001b[1;32m   1183\u001b[0m sample_weight \u001b[38;5;241m=\u001b[39m _check_sample_weight(sample_weight, X, dtype\u001b[38;5;241m=\u001b[39mnp\u001b[38;5;241m.\u001b[39mfloat64)\n\u001b[1;32m   1185\u001b[0m solver_type \u001b[38;5;241m=\u001b[39m _get_liblinear_solver_type(multi_class, penalty, loss, dual)\n\u001b[0;32m-> 1186\u001b[0m raw_coef_, n_iter_ \u001b[38;5;241m=\u001b[39m \u001b[43mliblinear\u001b[49m\u001b[38;5;241;43m.\u001b[39;49m\u001b[43mtrain_wrap\u001b[49m\u001b[43m(\u001b[49m\n\u001b[1;32m   1187\u001b[0m \u001b[43m    \u001b[49m\u001b[43mX\u001b[49m\u001b[43m,\u001b[49m\n\u001b[1;32m   1188\u001b[0m \u001b[43m    \u001b[49m\u001b[43my_ind\u001b[49m\u001b[43m,\u001b[49m\n\u001b[1;32m   1189\u001b[0m \u001b[43m    \u001b[49m\u001b[43msp\u001b[49m\u001b[38;5;241;43m.\u001b[39;49m\u001b[43misspmatrix\u001b[49m\u001b[43m(\u001b[49m\u001b[43mX\u001b[49m\u001b[43m)\u001b[49m\u001b[43m,\u001b[49m\n\u001b[1;32m   1190\u001b[0m \u001b[43m    \u001b[49m\u001b[43msolver_type\u001b[49m\u001b[43m,\u001b[49m\n\u001b[1;32m   1191\u001b[0m \u001b[43m    \u001b[49m\u001b[43mtol\u001b[49m\u001b[43m,\u001b[49m\n\u001b[1;32m   1192\u001b[0m \u001b[43m    \u001b[49m\u001b[43mbias\u001b[49m\u001b[43m,\u001b[49m\n\u001b[1;32m   1193\u001b[0m \u001b[43m    \u001b[49m\u001b[43mC\u001b[49m\u001b[43m,\u001b[49m\n\u001b[1;32m   1194\u001b[0m \u001b[43m    \u001b[49m\u001b[43mclass_weight_\u001b[49m\u001b[43m,\u001b[49m\n\u001b[1;32m   1195\u001b[0m \u001b[43m    \u001b[49m\u001b[43mmax_iter\u001b[49m\u001b[43m,\u001b[49m\n\u001b[1;32m   1196\u001b[0m \u001b[43m    \u001b[49m\u001b[43mrnd\u001b[49m\u001b[38;5;241;43m.\u001b[39;49m\u001b[43mrandint\u001b[49m\u001b[43m(\u001b[49m\u001b[43mnp\u001b[49m\u001b[38;5;241;43m.\u001b[39;49m\u001b[43miinfo\u001b[49m\u001b[43m(\u001b[49m\u001b[38;5;124;43m\"\u001b[39;49m\u001b[38;5;124;43mi\u001b[39;49m\u001b[38;5;124;43m\"\u001b[39;49m\u001b[43m)\u001b[49m\u001b[38;5;241;43m.\u001b[39;49m\u001b[43mmax\u001b[49m\u001b[43m)\u001b[49m\u001b[43m,\u001b[49m\n\u001b[1;32m   1197\u001b[0m \u001b[43m    \u001b[49m\u001b[43mepsilon\u001b[49m\u001b[43m,\u001b[49m\n\u001b[1;32m   1198\u001b[0m \u001b[43m    \u001b[49m\u001b[43msample_weight\u001b[49m\u001b[43m,\u001b[49m\n\u001b[1;32m   1199\u001b[0m \u001b[43m\u001b[49m\u001b[43m)\u001b[49m\n\u001b[1;32m   1200\u001b[0m \u001b[38;5;66;03m# Regarding rnd.randint(..) in the above signature:\u001b[39;00m\n\u001b[1;32m   1201\u001b[0m \u001b[38;5;66;03m# seed for srand in range [0..INT_MAX); due to limitations in Numpy\u001b[39;00m\n\u001b[1;32m   1202\u001b[0m \u001b[38;5;66;03m# on 32-bit platforms, we can't get to the UINT_MAX limit that\u001b[39;00m\n\u001b[1;32m   1203\u001b[0m \u001b[38;5;66;03m# srand supports\u001b[39;00m\n\u001b[1;32m   1204\u001b[0m n_iter_ \u001b[38;5;241m=\u001b[39m \u001b[38;5;28mmax\u001b[39m(n_iter_)\n",
      "\u001b[0;31mKeyboardInterrupt\u001b[0m: "
     ]
    }
   ],
   "source": [
    "classify(feature_smoothed_poisson, args.dataset, per_class='20')\n",
    "classify(feature_smoothed_poisson, args.dataset, per_class='5')"
   ]
  },
  {
   "cell_type": "code",
   "execution_count": null,
   "id": "b382e20e",
   "metadata": {},
   "outputs": [],
   "source": [
    "from sklearn.datasets import load_digits\n",
    "from sklearn.decomposition import FastICA\n",
    "transformer = decomposition.PCA(n_components=70,\n",
    "        random_state=0)\n",
    "#feature_pca = transformer.fit_transform(F.normalize(feature_smoothed_sgc))\n",
    "feature_pca = transformer.fit_transform(feature_smoothed_poisson/D)\n",
    "visualize(feature_pca[:,3],feature_pca[:,4],labels)\n",
    "\n"
   ]
  },
  {
   "cell_type": "code",
   "execution_count": 13,
   "id": "77a19211",
   "metadata": {},
   "outputs": [
    {
     "ename": "SyntaxError",
     "evalue": "invalid syntax (3253365344.py, line 1)",
     "output_type": "error",
     "traceback": [
      "\u001b[0;36m  Input \u001b[0;32mIn [13]\u001b[0;36m\u001b[0m\n\u001b[0;31m    cora without orth\u001b[0m\n\u001b[0m         ^\u001b[0m\n\u001b[0;31mSyntaxError\u001b[0m\u001b[0;31m:\u001b[0m invalid syntax\n"
     ]
    }
   ],
   "source": [
    "cora without orth\n",
    "82.26276771004942\n",
    "1.254241627563159\n",
    "77.16148597422288\n",
    "2.6389531638400907\n",
    "with orth\n",
    "81.75947281713344\n",
    "1.246101318967512\n",
    "72.3131159969674\n",
    "4.046646313156723\n",
    "with raw feature_smoothed_ssgc\n",
    "81.59390444810545\n",
    "1.2038835463852553\n",
    "71.03032600454888\n",
    "4.572080755555725\n",
    "\n",
    "citeseer without orth\n",
    "70.42112082928408\n",
    "1.1220317077364168\n",
    "66.50749923477197\n",
    "2.431697731089557\n",
    "with orth\n",
    "70.94978943958535\n",
    "1.0752492722237095\n",
    "66.09978573614937\n",
    "2.540035128432411\n",
    "with raw feature_smoothed_ssgc\n",
    "69.89050858438614\n",
    "1.2455656779678324\n",
    "60.153657790021434\n",
    "4.213946942708061\n",
    "\n",
    "\n",
    "pubmed without orth\n",
    "40 epoch\n",
    "74.67142930040312   claimed 77.4±1.9 \n",
    "2.381893996454681\n",
    "64.65291816935033   claimed 66.0±5.2b\n",
    "5.362018399570344\n",
    "\n",
    "with ort\n",
    "40 epoch\n",
    "74.04715007399092\n",
    "2.5807319620069507\n",
    "66.49210138670189\n",
    "4.908270660412052\n",
    "\n",
    "raw feature feature_smoothed_ssgc\n",
    "74.04715007399092\n",
    "2.5807319620069507\n",
    "66.49210138670189\n",
    "4.908270660412052\n",
    "\n",
    "pubmed 80 epoch wihtout orth\n",
    "73.68137980303108    \n",
    "2.4570598828041033\n",
    "63.52598161223142    \n",
    "5.489841045145188\n",
    "\n",
    "pubmed 80 epoch with orth\n",
    "72.51885492677451\n",
    "2.5179344333050375\n",
    "66.14364809264997\n",
    "4.886909664894386"
   ]
  }
 ],
 "metadata": {
  "kernelspec": {
   "display_name": "Python 3 (ipykernel)",
   "language": "python",
   "name": "python3"
  },
  "language_info": {
   "codemirror_mode": {
    "name": "ipython",
    "version": 3
   },
   "file_extension": ".py",
   "mimetype": "text/x-python",
   "name": "python",
   "nbconvert_exporter": "python",
   "pygments_lexer": "ipython3",
   "version": "3.9.12"
  }
 },
 "nbformat": 4,
 "nbformat_minor": 5
}
