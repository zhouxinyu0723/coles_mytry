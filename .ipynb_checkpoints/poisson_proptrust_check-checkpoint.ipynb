{
 "cells": [
  {
   "cell_type": "code",
   "execution_count": 1,
   "id": "1b4a8b32",
   "metadata": {},
   "outputs": [],
   "source": [
    "import torch\n",
    "from utils import load_adj_neg, load_dataset_adj_lap\n",
    "from model import Encoder\n",
    "from model import Model\n",
    "import argparse\n",
    "from torch_geometric.nn import GCNConv\n",
    "import torch.nn.functional as F\n",
    "import networkx as nx"
   ]
  },
  {
   "cell_type": "code",
   "execution_count": 2,
   "id": "467b3274",
   "metadata": {},
   "outputs": [],
   "source": [
    "from sklearn import decomposition\n",
    "from sklearn import datasets\n",
    "from sklearn.preprocessing import StandardScaler\n",
    "import numpy as np\n",
    "import matplotlib.pyplot as plt\n",
    "import matplotlib\n",
    "import pylab as pl\n",
    "from matplotlib import collections  as mc\n",
    "def visualize(x,y,labels,lap = None, width = 5):\n",
    "    ss = 1\n",
    "    #plt.scatter(emb_pca_x,emb_pca_y,s=ss,color='r')\n",
    "    label_num = labels.max().item()\n",
    "    colors = ['r','g','b','c','m','y','k','w']\n",
    "    if lap is not None:\n",
    "        a = lap_normalized.to_sparse()._indices()\n",
    "        lines = [[(x[a[0,i]],y[a[0,i]]),(x[a[1,i]],y[a[1,i]])] for i in range(a.shape[1])]\n",
    "        lc = mc.LineCollection(lines, colors='k', linewidths=width/10)\n",
    "        fig, ax = pl.subplots()\n",
    "        ax.add_collection(lc)\n",
    "        ax.autoscale()\n",
    "        ax.margins(0.1)\n",
    "    for i in range(label_num):\n",
    "        plt.scatter(x[np.nonzero(labels == i)],y[np.nonzero(labels == i)],s=ss,color=colors[i])\n",
    "    "
   ]
  },
  {
   "cell_type": "code",
   "execution_count": 3,
   "id": "85c127cf",
   "metadata": {},
   "outputs": [
    {
     "name": "stderr",
     "output_type": "stream",
     "text": [
      "/mnt/d/time_eternity/desktop_download_doc_pic_vid_music/Desktop/fp_jupyter_conda/coles_orthonormal_and_poisson/coles_mytry/utils.py:193: FutureWarning: adjacency_matrix will return a scipy.sparse array instead of a matrix in Networkx 3.0.\n",
      "  adj = nx.adjacency_matrix(nx.from_dict_of_lists(graph))\n"
     ]
    }
   ],
   "source": [
    "# NOTE: Splits are randomized and results might slightly deviate from reported numbers in the paper.\n",
    "import torch\n",
    "from utils import load_adj_neg, load_dataset_adj_lap\n",
    "from ssgc import Net\n",
    "import argparse\n",
    "import numpy as np\n",
    "from classification import classify\n",
    "parser = argparse.ArgumentParser()\n",
    "dataset = 'cora'\n",
    "if dataset=='cora':\n",
    "    nhid = 512\n",
    "    output = 512\n",
    "    num_nodes = 2708\n",
    "    num_features = 1433\n",
    "    lr = 0.001\n",
    "    weight_decay = 5e-4\n",
    "    epoch = 40\n",
    "    sample = 2\n",
    "if dataset=='citeseer':\n",
    "    nhid = 512\n",
    "    output = 512\n",
    "    num_nodes = 3327\n",
    "    num_features = 3703\n",
    "    lr = 0.0001\n",
    "    weight_decay = 1e-4\n",
    "    epoch = 160\n",
    "    sample = 5\n",
    "if dataset=='pubmed':\n",
    "    nhid = 256\n",
    "    output = 256\n",
    "    num_nodes = 19717\n",
    "    num_features = 500\n",
    "    lr = 0.02\n",
    "    weight_decay = 1e-5\n",
    "    epoch = 40\n",
    "    sample = 3\n",
    "parser.add_argument('--dataset', type=str, default=dataset,\n",
    "                    help='dataset')\n",
    "parser.add_argument('--seed', type=int, default=123,\n",
    "                    help='seed')\n",
    "parser.add_argument('--nhid', type=int, default=nhid,\n",
    "                    help='hidden size')\n",
    "parser.add_argument('--output', type=int, default=output,\n",
    "                    help='output size')\n",
    "parser.add_argument('--lr', type=float, default=lr,\n",
    "                    help='learning rate')\n",
    "parser.add_argument('--weight_decay', type=float, default=weight_decay,\n",
    "                    help='weight decay')\n",
    "parser.add_argument('--epochs', type=int, default=epoch,\n",
    "                    help='maximum number of epochs')\n",
    "parser.add_argument('--sample', type=int, default=sample,\n",
    "                    help='    ')\n",
    "parser.add_argument('--num_nodes', type=int, default=num_nodes,\n",
    "                    help='    ')\n",
    "parser.add_argument('--num_features', type=int, default=num_features,\n",
    "                    help='    ')\n",
    "\n",
    "label_file = open(\"data/{}{}\".format(dataset,\"_labels.txt\"), 'r')\n",
    "label_text = label_file.readlines()\n",
    "labels = []\n",
    "for line in label_text:\n",
    "    if line.strip('\\n'):\n",
    "        line = line.strip('\\n').split(' ')\n",
    "        labels.append(int(line[1]))\n",
    "labels = torch.tensor(labels)\n",
    "\n",
    "\n",
    "args = parser.parse_args(\"\")\n",
    "args.device = 'cpu'\n",
    "torch.manual_seed(args.seed)\n",
    "device = torch.device('cuda' if torch.cuda.is_available() else 'cpu')\n",
    "\n",
    "feature, adj_normalized, lap_normalized= load_dataset_adj_lap(args.dataset)\n",
    "feature = feature.to(device)\n",
    "adj_normalized = adj_normalized.to(device)\n",
    "lap_normalized = lap_normalized.to(device)\n",
    "D = torch.unsqueeze(torch.sum(lap_normalized>0,dim=0),1)\n",
    "\n",
    "\n",
    "\n",
    "adj_poisson = (adj_normalized>0)/D\n",
    "adj_extrinsic_poisson = adj_poisson * (1 - torch.eye(adj_poisson.shape[0]))\n",
    "\n",
    "feature_poisson_origin = F.normalize(feature)\n",
    "feature_poisson_origin = feature_poisson_origin - torch.mean(feature_poisson_origin,dim=0)\n"
   ]
  },
  {
   "cell_type": "code",
   "execution_count": 4,
   "id": "a528a5ca",
   "metadata": {},
   "outputs": [],
   "source": [
    "feature_smoothed_poisson = torch.zeros(feature.shape)\n",
    "sigmoid_square = torch.ones([feature.shape[0],1])\n",
    "\n",
    "ones = torch.ones([feature.shape[0],1])\n",
    "self_sigmoid_square = 1\n",
    "neibor_sigmoid_square = 0.1\n",
    "for i in range(20): \n",
    "    sigmoid_square_neighbor = (sigmoid_square*neibor_sigmoid_square)*(ones/sigmoid_square+1/neibor_sigmoid_square)\n",
    "    feature_smoothed_poisson = (feature_poisson_origin/D + torch.mm(adj_extrinsic_poisson, feature_smoothed_poisson/sigmoid_square_neighbor))/(1/D/self_sigmoid_square+torch.mm(adj_extrinsic_poisson,ones/sigmoid_square_neighbor))\n",
    "    sigmoid_square = 1/(1/self_sigmoid_square + torch.mm((adj_extrinsic_poisson>0).float(), ones/sigmoid_square_neighbor))\n"
   ]
  },
  {
   "cell_type": "code",
   "execution_count": null,
   "id": "7f990a1b",
   "metadata": {},
   "outputs": [],
   "source": []
  },
  {
   "cell_type": "code",
   "execution_count": 5,
   "id": "a29b007b",
   "metadata": {},
   "outputs": [
    {
     "data": {
      "image/png": "[encoded data removed]",
      "text/plain": [
       "<Figure size 432x288 with 1 Axes>"
      ]
     },
     "metadata": {
      "needs_background": "light"
     },
     "output_type": "display_data"
    }
   ],
   "source": [
    "fig, ax = plt.subplots()\n",
    "plt.plot(ones/sigmoid_square_neighbor)\n",
    "fig.tight_layout()\n"
   ]
  },
  {
   "cell_type": "code",
   "execution_count": 6,
   "id": "06975c30",
   "metadata": {},
   "outputs": [
    {
     "data": {
      "image/png": "[encoded data removed]",
      "text/plain": [
       "<Figure size 432x288 with 1 Axes>"
      ]
     },
     "metadata": {
      "needs_background": "light"
     },
     "output_type": "display_data"
    }
   ],
   "source": [
    "fig, ax = plt.subplots()\n",
    "plt.plot(D)\n",
    "fig.tight_layout()"
   ]
  },
  {
   "cell_type": "code",
   "execution_count": 7,
   "id": "68d57969",
   "metadata": {},
   "outputs": [
    {
     "ename": "AttributeError",
     "evalue": "module 'torch' has no attribute 'zeors'",
     "output_type": "error",
     "traceback": [
      "\u001b[0;31m---------------------------------------------------------------------------\u001b[0m",
      "\u001b[0;31mAttributeError\u001b[0m                            Traceback (most recent call last)",
      "Input \u001b[0;32mIn [7]\u001b[0m, in \u001b[0;36m<cell line: 1>\u001b[0;34m()\u001b[0m\n\u001b[0;32m----> 1\u001b[0m \u001b[43mclassify\u001b[49m\u001b[43m(\u001b[49m\u001b[43mfeature_smoothed_poisson\u001b[49m\u001b[43m,\u001b[49m\u001b[43m \u001b[49m\u001b[43margs\u001b[49m\u001b[38;5;241;43m.\u001b[39;49m\u001b[43mdataset\u001b[49m\u001b[43m,\u001b[49m\u001b[43m \u001b[49m\u001b[43mper_class\u001b[49m\u001b[38;5;241;43m=\u001b[39;49m\u001b[38;5;124;43m'\u001b[39;49m\u001b[38;5;124;43m20\u001b[39;49m\u001b[38;5;124;43m'\u001b[39;49m\u001b[43m,\u001b[49m\u001b[43mweight\u001b[49m\u001b[38;5;241;43m=\u001b[39;49m\u001b[43mtorch\u001b[49m\u001b[38;5;241;43m.\u001b[39;49m\u001b[43msqrt\u001b[49m\u001b[43m(\u001b[49m\u001b[43mones\u001b[49m\u001b[38;5;241;43m/\u001b[39;49m\u001b[43msigmoid_square\u001b[49m\u001b[43m)\u001b[49m\u001b[43m)\u001b[49m\n\u001b[1;32m      2\u001b[0m classify(feature_smoothed_poisson, args\u001b[38;5;241m.\u001b[39mdataset, per_class\u001b[38;5;241m=\u001b[39m\u001b[38;5;124m'\u001b[39m\u001b[38;5;124m5\u001b[39m\u001b[38;5;124m'\u001b[39m,weight\u001b[38;5;241m=\u001b[39mtorch\u001b[38;5;241m.\u001b[39msqrt(ones\u001b[38;5;241m/\u001b[39msigmoid_square))\n",
      "File \u001b[0;32m/mnt/d/time_eternity/desktop_download_doc_pic_vid_music/Desktop/fp_jupyter_conda/coles_orthonormal_and_poisson/coles_mytry/classification.py:48\u001b[0m, in \u001b[0;36mclassify\u001b[0;34m(embeds, dataset, per_class, weight)\u001b[0m\n\u001b[1;32m     46\u001b[0m \u001b[38;5;28;01melse\u001b[39;00m:\n\u001b[1;32m     47\u001b[0m     train_labels \u001b[38;5;241m=\u001b[39m []\n\u001b[0;32m---> 48\u001b[0m     train_embeds \u001b[38;5;241m=\u001b[39m \u001b[43mtorch\u001b[49m\u001b[38;5;241;43m.\u001b[39;49m\u001b[43mzeors\u001b[49m(\u001b[38;5;241m0\u001b[39m,embeds\u001b[38;5;241m.\u001b[39mshape[\u001b[38;5;241m1\u001b[39m])\n\u001b[1;32m     49\u001b[0m     \u001b[38;5;28;01mfor\u001b[39;00m i \u001b[38;5;129;01min\u001b[39;00m train_labels:\n\u001b[1;32m     50\u001b[0m         \u001b[38;5;28;01mfor\u001b[39;00m j \u001b[38;5;129;01min\u001b[39;00m \u001b[38;5;28mrange\u001b[39m(weight[i,\u001b[38;5;241m1\u001b[39m]\u001b[38;5;241m.\u001b[39mitem()):\n",
      "\u001b[0;31mAttributeError\u001b[0m: module 'torch' has no attribute 'zeors'"
     ]
    }
   ],
   "source": [
    "classify(feature_smoothed_poisson, args.dataset, per_class='20',weight=torch.sqrt(ones/sigmoid_square).int())\n",
    "classify(feature_smoothed_poisson, args.dataset, per_class='5',weight=torch.sqrt(ones/sigmoid_square).int())"
   ]
  },
  {
   "cell_type": "code",
   "execution_count": null,
   "id": "d120e27d",
   "metadata": {
    "scrolled": true
   },
   "outputs": [],
   "source": [
    "classify(F.normalize(feature_smoothed_poisson)*(torch.sqrt(ones/sigmoid_square)), args.dataset, per_class='20')\n",
    "classify(F.normalize(feature_smoothed_poisson)*(torch.sqrt(ones/sigmoid_square)), args.dataset, per_class='5')"
   ]
  },
  {
   "cell_type": "code",
   "execution_count": null,
   "id": "b018c112",
   "metadata": {},
   "outputs": [],
   "source": [
    "classify(F.normalize(feature_smoothed_poisson)*(torch.sqrt(D)), args.dataset, per_class='20')\n",
    "classify(F.normalize(feature_smoothed_poisson)*(torch.sqrt(D)), args.dataset, per_class='5')"
   ]
  },
  {
   "cell_type": "code",
   "execution_count": null,
   "id": "48a07301",
   "metadata": {},
   "outputs": [],
   "source": [
    "from sklearn.datasets import load_digits\n",
    "from sklearn.decomposition import FastICA\n",
    "transformer = decomposition.PCA(n_components=10,\n",
    "        random_state=0)\n",
    "feature_pca = transformer.fit_transform(F.normalize(feature_smoothed_poisson)*(torch.sqrt(ones/sigmoid_square)))\n",
    "#feature_pca = transformer.fit_transform(feature_smoothed_poisson*(torch.sqrt(D)))\n",
    "visualize(feature_pca[:,2],feature_pca[:,3],labels,lap_normalized,0.01)\n"
   ]
  },
  {
   "cell_type": "code",
   "execution_count": null,
   "id": "bf3c51b6",
   "metadata": {},
   "outputs": [],
   "source": [
    "from sklearn.datasets import load_digits\n",
    "from sklearn.decomposition import FastICA\n",
    "transformer = decomposition.PCA(n_components=10,\n",
    "        random_state=0)\n",
    "feature_pca = transformer.fit_transform(F.normalize(feature_smoothed_poisson)*(torch.sqrt(D)))\n",
    "#feature_pca = transformer.fit_transform(feature_smoothed_poisson*(torch.sqrt(D)))\n",
    "visualize(feature_pca[:,2],feature_pca[:,3],labels,lap_normalized,0.01)"
   ]
  },
  {
   "cell_type": "code",
   "execution_count": null,
   "id": "b382e20e",
   "metadata": {},
   "outputs": [],
   "source": [
    "from sklearn.datasets import load_digits\n",
    "from sklearn.decomposition import FastICA\n",
    "transformer = decomposition.PCA(n_components=70,\n",
    "        random_state=0)\n",
    "#feature_pca = transformer.fit_transform(F.normalize(feature_smoothed_sgc))\n",
    "feature_pca = transformer.fit_transform(feature_smoothed_poisson/D)\n",
    "visualize(feature_pca[:,3],feature_pca[:,4],labels)\n",
    "\n"
   ]
  },
  {
   "cell_type": "code",
   "execution_count": null,
   "id": "abaf99b9",
   "metadata": {},
   "outputs": [],
   "source": [
    "classify(feature_smoothed_poisson, args.dataset, per_class='20')\n",
    "classify(feature_smoothed_poisson, args.dataset, per_class='5')"
   ]
  },
  {
   "cell_type": "code",
   "execution_count": null,
   "id": "77a19211",
   "metadata": {},
   "outputs": [],
   "source": [
    "cora without orth\n",
    "82.26276771004942\n",
    "1.254241627563159\n",
    "77.16148597422288\n",
    "2.6389531638400907\n",
    "with orth\n",
    "81.75947281713344\n",
    "1.246101318967512\n",
    "72.3131159969674\n",
    "4.046646313156723\n",
    "with raw feature_smoothed_ssgc\n",
    "81.59390444810545\n",
    "1.2038835463852553\n",
    "71.03032600454888\n",
    "4.572080755555725\n",
    "\n",
    "citeseer without orth\n",
    "70.42112082928408\n",
    "1.1220317077364168\n",
    "66.50749923477197\n",
    "2.431697731089557\n",
    "with orth\n",
    "70.94978943958535\n",
    "1.0752492722237095\n",
    "66.09978573614937\n",
    "2.540035128432411\n",
    "with raw feature_smoothed_ssgc\n",
    "69.89050858438614\n",
    "1.2455656779678324\n",
    "60.153657790021434\n",
    "4.213946942708061\n",
    "\n",
    "\n",
    "pubmed without orth\n",
    "40 epoch\n",
    "74.67142930040312   claimed 77.4±1.9 \n",
    "2.381893996454681\n",
    "64.65291816935033   claimed 66.0±5.2b\n",
    "5.362018399570344\n",
    "\n",
    "with ort\n",
    "40 epoch\n",
    "74.04715007399092\n",
    "2.5807319620069507\n",
    "66.49210138670189\n",
    "4.908270660412052\n",
    "\n",
    "raw feature feature_smoothed_ssgc\n",
    "74.04715007399092\n",
    "2.5807319620069507\n",
    "66.49210138670189\n",
    "4.908270660412052\n",
    "\n",
    "pubmed 80 epoch wihtout orth\n",
    "73.68137980303108    \n",
    "2.4570598828041033\n",
    "63.52598161223142    \n",
    "5.489841045145188\n",
    "\n",
    "pubmed 80 epoch with orth\n",
    "72.51885492677451\n",
    "2.5179344333050375\n",
    "66.14364809264997\n",
    "4.886909664894386\n",
    "\n",
    "\n",
    "prop trust\n",
    "citeseer\n",
    "68.2863621639132\n",
    "1.3510862584855856\n",
    "59.33272115090297\n",
    "3.5934326478702103\n",
    "\n",
    "67.93067703271785\n",
    "1.4662170725142751\n",
    "57.887358432812974\n",
    "3.9799706791084972\n",
    "\n",
    "69.90929705215419\n",
    "1.0327969001654322\n",
    "55.50474441383532\n",
    "4.4358673427829425\n",
    "\n",
    "pubmed\n",
    "77.40633770475073\n",
    "2.321123388154809\n",
    "67.6262508254178\n",
    "4.031055536416952\n",
    "\n",
    "77.0480175537072\n",
    "2.452913517517135\n",
    "65.75882562096815\n",
    "5.053655969374371\n",
    "\n",
    "77.1723222942287\n",
    "1.8278584867729972\n",
    "66.1556356986844\n",
    "5.468742459417803"
   ]
  }
 ],
 "metadata": {
  "kernelspec": {
   "display_name": "Python 3 (ipykernel)",
   "language": "python",
   "name": "python3"
  },
  "language_info": {
   "codemirror_mode": {
    "name": "ipython",
    "version": 3
   },
   "file_extension": ".py",
   "mimetype": "text/x-python",
   "name": "python",
   "nbconvert_exporter": "python",
   "pygments_lexer": "ipython3",
   "version": "3.9.12"
  }
 },
 "nbformat": 4,
 "nbformat_minor": 5
}
