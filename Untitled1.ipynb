{
 "cells": [
  {
   "cell_type": "code",
   "execution_count": 1,
   "id": "1b4a8b32",
   "metadata": {},
   "outputs": [],
   "source": [
    "import torch\n",
    "from utils import load_adj_neg, load_dataset_adj_lap\n",
    "from model import Encoder\n",
    "from model import Model\n",
    "import argparse\n",
    "from torch_geometric.nn import GCNConv\n",
    "import torch.nn.functional as F\n",
    "\n",
    "import networkx as nx"
   ]
  },
  {
   "cell_type": "code",
   "execution_count": 2,
   "id": "85c127cf",
   "metadata": {},
   "outputs": [
    {
     "name": "stderr",
     "output_type": "stream",
     "text": [
      "/mnt/d/time_eternity/desktop_download_doc_pic_vid_music/Desktop/fp_jupyter_conda/COLES-main-gnn/utils.py:193: FutureWarning: adjacency_matrix will return a scipy.sparse array instead of a matrix in Networkx 3.0.\n",
      "  adj = nx.adjacency_matrix(nx.from_dict_of_lists(graph))\n"
     ]
    }
   ],
   "source": [
    "parser = argparse.ArgumentParser()\n",
    "\n",
    "parser.add_argument('--dataset', type=str, default='cora',\n",
    "                    help='dataset')\n",
    "parser.add_argument('--seed', type=int, default=123,\n",
    "                    help='seed')\n",
    "parser.add_argument('--nhid', type=int, default=512,\n",
    "                    help='hidden size')\n",
    "parser.add_argument('--output', type=int, default=512,\n",
    "                    help='output size')\n",
    "parser.add_argument('--lr', type=float, default=0.001,\n",
    "                    help='learning rate')\n",
    "parser.add_argument('--weight_decay', type=float, default=5e-4,\n",
    "                    help='weight decay')\n",
    "parser.add_argument('--epochs', type=int, default=20,\n",
    "                    help='maximum number of epochs')\n",
    "parser.add_argument('--sample', type=int, default=2,\n",
    "                    help='    ')\n",
    "parser.add_argument('--num_nodes', type=int, default=2708,\n",
    "                    help='    ')\n",
    "parser.add_argument('--num_features', type=int, default=1433,\n",
    "                    help='    ')\n",
    "\n",
    "args = parser.parse_args(\"\")\n",
    "args.device = 'cpu'\n",
    "torch.manual_seed(args.seed)\n",
    "device = torch.device('cuda' if torch.cuda.is_available() else 'cpu')\n",
    "\n",
    "feature, adj_normalized, lap_normalized = load_dataset_adj_lap(args.dataset)\n",
    "'''restart_ratio = 1/2\n",
    "lap_normalized_power1 = lap_normalized\n",
    "lap_normalized_power2 = (1-restart_ratio)*torch.mm(lap_normalized,lap_normalized_power1) + restart_ratio*lap_normalized_power1 \n",
    "lap_normalized_power3 = (1-restart_ratio)*torch.mm(lap_normalized,lap_normalized_power2.float()) + restart_ratio*lap_normalized_power1\n",
    "lap_normalized_power4 = (1-restart_ratio)*torch.mm(lap_normalized,lap_normalized_power3.float()) + restart_ratio*lap_normalized_power1\n",
    "lap_normalized_power5 = (1-restart_ratio)*torch.mm(lap_normalized,lap_normalized_power4.float()) + restart_ratio*lap_normalized_power1\n",
    "lap_normalized_power = lap_normalized_power3# + (lap_normalized_power2 * ~lap_normalized_power1.bool()).float() + (lap_normalized_power3* ~lap_normalized_power2.bool()).float() + (lap_normalized_power4* ~lap_normalized_power3.bool()).float() + (lap_normalized_power5* ~lap_normalized_power4.bool()).float()\n",
    "lap_normalized_power = lap_normalized_power/torch.sum(lap_normalized_power,1)'''\n",
    "lap_normalized_power2 = torch.matrix_power(lap_normalized,1)\n",
    "feature_origin = feature\n",
    "feature = feature.to(device)\n",
    "adj_normalized = adj_normalized.to(device)\n",
    "lap_normalized = lap_normalized.to(device)\n",
    "K = 8\n",
    "emb = feature\n",
    "for i in range(K):\n",
    "    feature = torch.mm(adj_normalized, feature)\n",
    "    emb = emb + feature\n",
    "emb/=K\n",
    "emb_origin = emb\n",
    "neg_sample = torch.from_numpy(load_adj_neg(args.num_nodes, args.sample)).float().to(device)\n",
    "\n",
    "#activation = torch.nn.functional.relu(input, inplace=False) \n",
    "encoder = Encoder(args.num_features,args.output,F.relu )\n",
    "model = Model(encoder,args.nhid,args.nhid)\n",
    "#model = Net(args).to(device)\n",
    "optimizer = torch.optim.Adam(model.parameters(), lr=args.lr, weight_decay=args.weight_decay)\n",
    "#optimizer = optim.SGD(model.parameters(), lr=0.01, momentum=0.9)\n",
    "#model.train()\n",
    "Lambda = 0.9\n",
    "\n",
    "\n",
    "\n"
   ]
  },
  {
   "cell_type": "code",
   "execution_count": 3,
   "id": "34113169",
   "metadata": {},
   "outputs": [],
   "source": [
    "a =lap_normalized.to_sparse()._indices()"
   ]
  },
  {
   "cell_type": "code",
   "execution_count": 4,
   "id": "18e066da",
   "metadata": {},
   "outputs": [
    {
     "data": {
      "text/plain": [
       "tensor([13820218, 13820218])"
      ]
     },
     "execution_count": 4,
     "metadata": {},
     "output_type": "execute_result"
    }
   ],
   "source": [
    "a.sum(1)"
   ]
  },
  {
   "cell_type": "code",
   "execution_count": 12,
   "id": "3acc3b43",
   "metadata": {},
   "outputs": [],
   "source": [
    "import time\n",
    "idx_train = range(140)\n",
    "idx_val = range(200, 500)\n",
    "idx_test = range(500, 1500)\n",
    "import numpy as np\n",
    "def train(epoch):\n",
    "    idx = np.random.choice(lap_normalized.shape[0], size=100)\n",
    "    idy = np.random.choice(lap_normalized.shape[0], size=100)\n",
    "    t = time.time()\n",
    "    model.train()\n",
    "    optimizer.zero_grad()\n",
    "    #a_small =lap_small.to_sparse()._indices()\n",
    "    out = model(feature_origin,a)\n",
    "    #random_batch = np.random.choice(idx_train.shape[0],int(np.ceil(idx_train.shape[0]/10)))\n",
    "    #loss_train = F.nll_loss(output[idx_train[random_batch]], labels[idx_train[random_batch]])\n",
    "    #loss_train = F.nll_loss(output[idx_train], labels[idx_train])\n",
    "    loss_train = model.loss(out,out)#,batch_size=10)\n",
    "    \n",
    "    #loss_train = ((Lambda*torch.trace(torch.mm(torch.mm(torch.transpose(out, 0, 1), neg_sample), out)) - torch.trace(\n",
    "    #    torch.mm(torch.mm(torch.transpose(out, 0, 1), lap_normalized_power2), out)))/lap_normalized.shape[0])# + torch.trace ( torch.nn.functional.relu\n",
    "        #(torch.mm(out,torch.transpose(out, 0, 1)) -torch.eye(lap_normalized.shape[0]))**2) /lap_normalized.shape[0]   #+ 10*F.nll_loss(\n",
    "        #output[idx_train], labels[idx_train]) # -torch.eye(lap_normalized.shape[0]\n",
    "    #loss_train = F.nll_loss(output[idx_train], labels[idx_train]) # -torch.eye(lap_normalized.shape[0]\n",
    "    print(loss_train)\n",
    "    #acc_train = accuracy(output[idx_train], labels[idx_train])\n",
    "    #print(loss_train)\n",
    "    loss_train.backward()\n",
    "    optimizer.step()\n",
    "\n",
    "    '''if not args.fastmode:\n",
    "        # Evaluate validation set performance separately,\n",
    "        # deactivates dropout during validation run.\n",
    "        model.eval()\n",
    "        output = model(feature, adj)[0]\n",
    "    \n",
    "    output = model(feature, adj_normalized)[1]\n",
    "    loss_val = F.nll_loss(output[idx_val], labels[idx_val])\n",
    "    acc_val = accuracy(output[idx_val],labels[idx_val])\n",
    "    print('Epoch: {:04d}'.format(epoch+1),\n",
    "          'loss_train: {:.4f}'.format(loss_train.item()),\n",
    "          'acc_train: {:.4f}'.format(acc_train.item()),\n",
    "          'loss_val: {:.4f}'.format(loss_val.item()),\n",
    "          'acc_val: {:.4f}'.format(acc_val.item()),\n",
    "          'time: {:.4f}s'.format(time.time() - t))'''\n",
    "    #return acc_train, acc_val"
   ]
  },
  {
   "cell_type": "code",
   "execution_count": 13,
   "id": "d208bd83",
   "metadata": {},
   "outputs": [
    {
     "name": "stdout",
     "output_type": "stream",
     "text": [
      "tensor(3490.7104, grad_fn=<MeanBackward0>)\n",
      "tensor(2432.7529, grad_fn=<MeanBackward0>)\n",
      "tensor(1682.8458, grad_fn=<MeanBackward0>)\n",
      "tensor(1203.3615, grad_fn=<MeanBackward0>)\n",
      "tensor(889.0377, grad_fn=<MeanBackward0>)\n",
      "tensor(683.2019, grad_fn=<MeanBackward0>)\n",
      "tensor(531.9291, grad_fn=<MeanBackward0>)\n",
      "tensor(416.4341, grad_fn=<MeanBackward0>)\n",
      "tensor(338.7324, grad_fn=<MeanBackward0>)\n",
      "tensor(287.4537, grad_fn=<MeanBackward0>)\n",
      "tensor(249.5815, grad_fn=<MeanBackward0>)\n",
      "tensor(214.9564, grad_fn=<MeanBackward0>)\n",
      "tensor(181.0852, grad_fn=<MeanBackward0>)\n",
      "tensor(151.2617, grad_fn=<MeanBackward0>)\n",
      "tensor(128.5950, grad_fn=<MeanBackward0>)\n",
      "tensor(112.8674, grad_fn=<MeanBackward0>)\n",
      "tensor(101.7583, grad_fn=<MeanBackward0>)\n",
      "tensor(93.1286, grad_fn=<MeanBackward0>)\n",
      "tensor(85.6326, grad_fn=<MeanBackward0>)\n",
      "tensor(78.5191, grad_fn=<MeanBackward0>)\n"
     ]
    }
   ],
   "source": [
    "for epoch in range(args.epochs):\n",
    "    train(1)"
   ]
  },
  {
   "cell_type": "code",
   "execution_count": 19,
   "id": "dc788b9d",
   "metadata": {},
   "outputs": [
    {
     "data": {
      "text/plain": [
       "tensor([3, 4, 4,  ..., 3, 3, 3])"
      ]
     },
     "execution_count": 19,
     "metadata": {},
     "output_type": "execute_result"
    }
   ],
   "source": [
    "labels\n"
   ]
  },
  {
   "cell_type": "code",
   "execution_count": 18,
   "id": "3a229cb1",
   "metadata": {},
   "outputs": [
    {
     "data": {
      "text/plain": [
       "<matplotlib.collections.PathCollection at 0x7f4c647a1f40>"
      ]
     },
     "execution_count": 18,
     "metadata": {},
     "output_type": "execute_result"
    },
    {
     "data": {
      "image/png": "[encoded data removed]",
      "text/plain": [
       "<Figure size 432x288 with 1 Axes>"
      ]
     },
     "metadata": {
      "needs_background": "light"
     },
     "output_type": "display_data"
    }
   ],
   "source": [
    "label_file = open(\"data/{}{}\".format('cora',\"_labels.txt\"), 'r')\n",
    "label_text = label_file.readlines()\n",
    "labels = []\n",
    "for line in label_text:\n",
    "    if line.strip('\\n'):\n",
    "        line = line.strip('\\n').split(' ')\n",
    "        labels.append(int(line[1]))\n",
    "labels = torch.tensor(labels)\n",
    "from sklearn import decomposition\n",
    "from sklearn import datasets\n",
    "from sklearn.preprocessing import StandardScaler\n",
    "import numpy as np\n",
    "pca = decomposition.PCA(n_components=2)\n",
    "\n",
    "encoder.eval()\n",
    "emb = model.projection(model(feature_origin,a))\n",
    "emb_pca = pca.fit_transform(emb.detach().numpy())\n",
    "\n",
    "import matplotlib.pyplot as plt\n",
    "import matplotlib\n",
    "\n",
    "\n",
    "\n",
    "emb_pca_x = emb_pca[:,0]\n",
    "emb_pca_y = emb_pca[:,1]\n",
    "ss = 1\n",
    "#plt.scatter(emb_pca_x,emb_pca_y,s=ss,color='r')\n",
    "plt.scatter(emb_pca_x[np.nonzero(labels == 0)],emb_pca_y[np.nonzero(labels == 0)],s=ss,color='r')\n",
    "plt.scatter(emb_pca_x[np.nonzero(labels == 1)],emb_pca_y[np.nonzero(labels == 1)],s=ss,color='b')\n",
    "plt.scatter(emb_pca_x[np.nonzero(labels == 2)],emb_pca_y[np.nonzero(labels == 2)],s=ss,color='g')\n",
    "plt.scatter(emb_pca_x[np.nonzero(labels == 3)],emb_pca_y[np.nonzero(labels == 3)],s=ss,color='y')\n",
    "plt.scatter(emb_pca_x[np.nonzero(labels == 4)],emb_pca_y[np.nonzero(labels == 4)],s=ss,color='c')\n",
    "plt.scatter(emb_pca_x[np.nonzero(labels == 5)],emb_pca_y[np.nonzero(labels == 5)],s=ss,color='k')"
   ]
  },
  {
   "cell_type": "code",
   "execution_count": 9,
   "id": "77a19211",
   "metadata": {},
   "outputs": [],
   "source": [
    "#activation = torch.nn.functional.relu(input, inplace=False) \n",
    "model = Model(encoder,args.nhid,args.nhid)\n",
    "#model = Net(args).to(device)\n",
    "optimizer = torch.optim.Adam(encoder.parameters(), lr=args.lr, weight_decay=args.weight_decay)\n",
    "\n",
    "\n"
   ]
  },
  {
   "cell_type": "code",
   "execution_count": 10,
   "id": "0e2f3974",
   "metadata": {},
   "outputs": [],
   "source": [
    "idx_train = range(140)\n",
    "idx_val = range(200, 500)\n",
    "idx_test = range(500, 1500)\n",
    "def train_model(epoch):\n",
    "    t = time.time()\n",
    "    model.train()\n",
    "    optimizer.zero_grad()\n",
    "    \n",
    "    out = model(feature_origin,a)\n",
    "    #random_batch = np.random.choice(idx_train.shape[0],int(np.ceil(idx_train.shape[0]/10)))\n",
    "    #loss_train = F.nll_loss(output[idx_train[random_batch]], labels[idx_train[random_batch]])\n",
    "    #loss_train = F.nll_loss(output[idx_train], labels[idx_train])\n",
    "    loss_train = F.nll_loss(output[idx_train], labels[idx_train]) # -torch.eye(lap_normalized.shape[0]\n",
    "    \n",
    "    #loss_train = ((Lambda*torch.trace(torch.mm(torch.mm(torch.transpose(out, 0, 1), neg_sample), out)) - torch.trace(\n",
    "    #    torch.mm(torch.mm(torch.transpose(out, 0, 1), lap_normalized_power2), out)))/lap_normalized.shape[0])# + torch.trace ( torch.nn.functional.relu\n",
    "        #(torch.mm(out,torch.transpose(out, 0, 1)) -torch.eye(lap_normalized.shape[0]))**2) /lap_normalized.shape[0]   #+ 10*F.nll_loss(\n",
    "        #output[idx_train], labels[idx_train]) # -torch.eye(lap_normalized.shape[0]\n",
    "    #loss_train = F.nll_loss(output[idx_train], labels[idx_train]) # -torch.eye(lap_normalized.shape[0]\n",
    "    print(loss_train)\n",
    "    #acc_train = accuracy(output[idx_train], labels[idx_train])\n",
    "    #print(loss_train)\n",
    "    loss_train.backward()\n",
    "    optimizer.step()\n",
    "\n",
    "    '''if not args.fastmode:\n",
    "        # Evaluate validation set performance separately,\n",
    "        # deactivates dropout during validation run.\n",
    "        model.eval()\n",
    "        output = model(feature, adj)[0]\n",
    "    \n",
    "    output = model(feature, adj_normalized)[1]\n",
    "    loss_val = F.nll_loss(output[idx_val], labels[idx_val])\n",
    "    acc_val = accuracy(output[idx_val],labels[idx_val])\n",
    "    print('Epoch: {:04d}'.format(epoch+1),\n",
    "          'loss_train: {:.4f}'.format(loss_train.item()),\n",
    "          'acc_train: {:.4f}'.format(acc_train.item()),\n",
    "          'loss_val: {:.4f}'.format(loss_val.item()),\n",
    "          'acc_val: {:.4f}'.format(acc_val.item()),\n",
    "          'time: {:.4f}s'.format(time.time() - t))'''\n",
    "    #return acc_train, acc_val\n",
    "    "
   ]
  },
  {
   "cell_type": "code",
   "execution_count": 20,
   "id": "324f13ae",
   "metadata": {},
   "outputs": [
    {
     "name": "stdout",
     "output_type": "stream",
     "text": [
      "79.70593080724878\n",
      "1.313233142033023\n",
      "73.7740712661107\n",
      "4.37412117752839\n"
     ]
    }
   ],
   "source": [
    "\n",
    "from classification import classify\n",
    "classify(emb.detach().numpy(), args.dataset, per_class='20')\n",
    "classify(emb.detach().numpy(), args.dataset, per_class='5')"
   ]
  },
  {
   "cell_type": "code",
   "execution_count": null,
   "id": "675c38fd",
   "metadata": {},
   "outputs": [],
   "source": []
  }
 ],
 "metadata": {
  "kernelspec": {
   "display_name": "Python 3 (ipykernel)",
   "language": "python",
   "name": "python3"
  },
  "language_info": {
   "codemirror_mode": {
    "name": "ipython",
    "version": 3
   },
   "file_extension": ".py",
   "mimetype": "text/x-python",
   "name": "python",
   "nbconvert_exporter": "python",
   "pygments_lexer": "ipython3",
   "version": "3.9.12"
  }
 },
 "nbformat": 4,
 "nbformat_minor": 5
}
