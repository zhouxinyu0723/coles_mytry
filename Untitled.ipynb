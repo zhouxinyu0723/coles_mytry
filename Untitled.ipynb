{
 "cells": [
  {
   "cell_type": "code",
   "execution_count": 301,
   "id": "3a8ba780",
   "metadata": {},
   "outputs": [
    {
     "name": "stderr",
     "output_type": "stream",
     "text": [
      "/mnt/d/time_eternity/desktop_download_doc_pic_vid_music/Desktop/fp_jupyter_conda/COLES-main-gnn/utils.py:193: FutureWarning: adjacency_matrix will return a scipy.sparse array instead of a matrix in Networkx 3.0.\n",
      "  adj = nx.adjacency_matrix(nx.from_dict_of_lists(graph))\n"
     ]
    }
   ],
   "source": [
    "# NOTE: Splits are randomized and results might slightly deviate from reported numbers in the paper.\n",
    "import torch\n",
    "from utils import load_adj_neg, load_dataset_adj_lap\n",
    "from ssgc import Net\n",
    "import argparse\n",
    "import numpy as np\n",
    "from classification import classify\n",
    "\n",
    "parser = argparse.ArgumentParser()\n",
    "\n",
    "parser.add_argument('--dataset', type=str, default='cora',\n",
    "                    help='dataset')\n",
    "parser.add_argument('--seed', type=int, default=123,\n",
    "                    help='seed')\n",
    "parser.add_argument('--nhid', type=int, default=512,\n",
    "                    help='hidden size')\n",
    "parser.add_argument('--output', type=int, default=512,\n",
    "                    help='output size')\n",
    "parser.add_argument('--lr', type=float, default=0.001,\n",
    "                    help='learning rate')\n",
    "parser.add_argument('--weight_decay', type=float, default=5e-4,\n",
    "                    help='weight decay')\n",
    "parser.add_argument('--epochs', type=int, default=20,\n",
    "                    help='maximum number of epochs')\n",
    "parser.add_argument('--sample', type=int, default=300,\n",
    "                    help='    ')\n",
    "parser.add_argument('--num_nodes', type=int, default=2708,\n",
    "                    help='    ')\n",
    "parser.add_argument('--num_features', type=int, default=1433,\n",
    "                    help='    ')\n",
    "\n",
    "args = parser.parse_args(\"\")\n",
    "args.device = 'cpu'\n",
    "torch.manual_seed(args.seed)\n",
    "device = torch.device('cuda' if torch.cuda.is_available() else 'cpu')\n",
    "\n",
    "feature, adj_normalized, lap_normalized= load_dataset_adj_lap(args.dataset)\n",
    "'''restart_ratio = 1/2\n",
    "lap_normalized_power1 = lap_normalized\n",
    "lap_normalized_power2 = (1-restart_ratio)*torch.mm(lap_normalized,lap_normalized_power1) + restart_ratio*lap_normalized_power1 \n",
    "lap_normalized_power3 = (1-restart_ratio)*torch.mm(lap_normalized,lap_normalized_power2.float()) + restart_ratio*lap_normalized_power1\n",
    "lap_normalized_power4 = (1-restart_ratio)*torch.mm(lap_normalized,lap_normalized_power3.float()) + restart_ratio*lap_normalized_power1\n",
    "lap_normalized_power5 = (1-restart_ratio)*torch.mm(lap_normalized,lap_normalized_power4.float()) + restart_ratio*lap_normalized_power1\n",
    "lap_normalized_power = lap_normalized_power3# + (lap_normalized_power2 * ~lap_normalized_power1.bool()).float() + (lap_normalized_power3* ~lap_normalized_power2.bool()).float() + (lap_normalized_power4* ~lap_normalized_power3.bool()).float() + (lap_normalized_power5* ~lap_normalized_power4.bool()).float()\n",
    "lap_normalized_power = lap_normalized_power/torch.sum(lap_normalized_power,1)'''\n",
    "lap_normalized_power2 = torch.matrix_power(lap_normalized,1)\n",
    "feature_origin = feature\n",
    "feature = feature.to(device)\n",
    "adj_normalized = adj_normalized.to(device)\n",
    "lap_normalized = lap_normalized.to(device)\n",
    "K = 8\n",
    "emb = feature\n",
    "for i in range(K):\n",
    "    feature = torch.mm(adj_normalized, feature)\n",
    "    emb = emb + feature\n",
    "emb/=K\n",
    "emb_origin = emb\n",
    "neg_sample = torch.from_numpy(load_adj_neg(args.num_nodes, args.sample)).float().to(device)\n",
    "\n",
    "model = Net(args).to(device)\n",
    "optimizer = torch.optim.Adam(model.parameters(), lr=args.lr, weight_decay=args.weight_decay)\n",
    "#optimizer = optim.SGD(model.parameters(), lr=0.01, momentum=0.9)\n",
    "model.train()\n",
    "Lambda = 0.9\n",
    "\n",
    "\n",
    "\n"
   ]
  },
  {
   "cell_type": "code",
   "execution_count": 302,
   "id": "51fd1e0c",
   "metadata": {},
   "outputs": [
    {
     "data": {
      "text/plain": [
       "\"for epoch in range(args.epochs):\\n\\n    optimizer.zero_grad()\\n    out = model(emb)\\n    \\n    loss = (Lambda*torch.trace(torch.mm(torch.mm(torch.transpose(out, 0, 1), neg_sample), out)) - torch.trace(\\n        torch.mm(torch.mm(torch.transpose(out, 0, 1), lap_normalized_power2), out)))/out.shape[0]\\n\\n    #print(loss)\\n    loss.backward()\\n    optimizer.step()\\n\\n\\nemb = model(emb).cpu().detach().numpy()\\nnp.save('embedding.npy', emb)\""
      ]
     },
     "execution_count": 302,
     "metadata": {},
     "output_type": "execute_result"
    }
   ],
   "source": [
    "'''for epoch in range(args.epochs):\n",
    "\n",
    "    optimizer.zero_grad()\n",
    "    out = model(emb)\n",
    "    \n",
    "    loss = (Lambda*torch.trace(torch.mm(torch.mm(torch.transpose(out, 0, 1), neg_sample), out)) - torch.trace(\n",
    "        torch.mm(torch.mm(torch.transpose(out, 0, 1), lap_normalized_power2), out)))/out.shape[0]\n",
    "\n",
    "    #print(loss)\n",
    "    loss.backward()\n",
    "    optimizer.step()\n",
    "\n",
    "\n",
    "emb = model(emb).cpu().detach().numpy()\n",
    "np.save('embedding.npy', emb)'''\n"
   ]
  },
  {
   "cell_type": "code",
   "execution_count": 303,
   "id": "b8756bf9",
   "metadata": {},
   "outputs": [],
   "source": [
    "from layers import GraphConvolution\n",
    "from layers import PairNorm\n",
    "from layers import GraphPropagation\n",
    "from torch.nn.modules.module import Module\n",
    "import torch.nn.functional as F\n",
    "import torch.nn as nn\n",
    "from torch.nn.parameter import Parameter\n",
    "import math\n",
    "import time\n",
    "class GraphFeatureMap(Module):\n",
    "    \"\"\"\n",
    "    Simple GCN layer, similar to https://arxiv.org/abs/1609.02907\n",
    "    \"\"\"\n",
    "\n",
    "    def __init__(self, in_features, out_features, bias=True):\n",
    "        super(GraphFeatureMap, self).__init__()\n",
    "        self.in_features = in_features\n",
    "        self.out_features = out_features\n",
    "        self.weight = Parameter(torch.FloatTensor(in_features, out_features))\n",
    "        self.register_parameter('weight',self.weight)\n",
    "        if bias:\n",
    "            self.bias = Parameter(torch.FloatTensor(out_features))\n",
    "            self.register_parameter('bias',self.bias)\n",
    "        else:\n",
    "            self.register_parameter('bias', None)\n",
    "        self.reset_parameters()\n",
    "        \n",
    "    def reset_parameters(self):\n",
    "        stdv = 1. / math.sqrt(self.weight.size(1))\n",
    "        self.weight.data.uniform_(-stdv, stdv)\n",
    "        if self.bias is not None:\n",
    "            self.bias.data.uniform_(-stdv, stdv)\n",
    "\n",
    "    def forward(self, input):\n",
    "        output = torch.mm(input, self.weight)\n",
    "        if self.bias is not None:\n",
    "            return output + self.bias\n",
    "        else:\n",
    "            return output\n",
    "\n",
    "class GCN(nn.Module):\n",
    "    def __init__(self, nfeat, nhid, nclass, dropout, num_layers=2):\n",
    "        super(GCN, self).__init__()\n",
    "\n",
    "        self.hidden_fm_layers = nn.ModuleList([GraphFeatureMap(nfeat if i==0 else nhid, nhid) for i in range(num_layers-1)])\n",
    "        self.out_fm_layer = GraphFeatureMap(nhid, nclass)\n",
    "        \n",
    "        #torch.nn.utils.parametrizations.orthogonal(self.hidden_fm_layers[0] , name='weight')\n",
    "        #torch.nn.utils.parametrizations.orthogonal(model.hidden_fm_layers[1] , name='weight')\n",
    "        #torch.nn.utils.parametrizations.orthogonal(self.out_fm_layer , name='weight')\n",
    "        self.fc1 = torch.nn.Linear(nhid, nhid)\n",
    "        self.fc2 = torch.nn.Linear(nhid, nhid)\n",
    "     \n",
    "        self.prop = GraphPropagation()\n",
    "        #self.norm = PairNorm(mode='PN', scale=1)\n",
    "        self.dropout = dropout\n",
    "        self.num_layers = num_layers\n",
    "        self.scale = 1\n",
    "    def projection(self, z: torch.Tensor) -> torch.Tensor:\n",
    "        z = F.elu(self.fc1(z))\n",
    "        return self.fc2(z)\n",
    "    def forward(self, x, adj, intermediate_i=1):\n",
    "        assert intermediate_i <= self.num_layers\n",
    "        intermediate_i_counter = 1\n",
    "        for i, layer in enumerate(self.hidden_fm_layers):\n",
    "            x = F.dropout(x) \n",
    "            x = self.prop(x,adj)\n",
    "            x = layer(x)\n",
    "            if intermediate_i == intermediate_i_counter:         #\n",
    "                x_intermediate = x                               #\n",
    "            intermediate_i_counter = intermediate_i_counter + 1  #\n",
    "              \n",
    "            x = F.relu(x)\n",
    "        x = F.dropout(x)           \n",
    "        \n",
    "        \n",
    "        \n",
    "        \n",
    "        x = self.out_fm_layer(x)\n",
    "        if intermediate_i == intermediate_i_counter:             #\n",
    "            x_intermediate = x                                   #\n",
    "        \n",
    "        \n",
    "        \n",
    "        #col_mean = x.mean(dim=0)      \n",
    "        #if self.mode == 'PN':\n",
    "        #x = x - col_mean\n",
    "        #rownorm_individual = (1e-6 + x.pow(2).sum(dim=1, keepdim=True)).sqrt()\n",
    "        #x = self.scale * x / rownorm_individual\n",
    "        return x, F.log_softmax(x, dim=1), x_intermediate\n",
    "    \n",
    "    #torch.nn.utils.parametrizations.orthogonal(model.hidden_fm_layers[0] , name='weight')\n",
    "    #torch.nn.utils.parametrizations.orthogonal(model.hidden_fm_layers[1] , name='weight')\n",
    "    #torch.nn.utils.parametrizations.orthogonal(model.out_fm_layer , name='weight')"
   ]
  },
  {
   "cell_type": "code",
   "execution_count": 304,
   "id": "ab6045fc",
   "metadata": {},
   "outputs": [],
   "source": [
    "label_file = open(\"data/{}{}\".format('cora',\"_labels.txt\"), 'r')\n",
    "label_text = label_file.readlines()\n",
    "labels = []\n",
    "for line in label_text:\n",
    "    if line.strip('\\n'):\n",
    "        line = line.strip('\\n').split(' ')\n",
    "        labels.append(int(line[1]))\n",
    "labels = torch.tensor(labels)\n",
    "        \n",
    "\n",
    "def accuracy(output, labels):\n",
    "    preds = output.max(1)[1].type_as(labels)\n",
    "    correct = preds.eq(labels).double()\n",
    "    correct = correct.sum()\n",
    "    return correct / len(labels)"
   ]
  },
  {
   "cell_type": "code",
   "execution_count": 305,
   "id": "9500dd83",
   "metadata": {},
   "outputs": [],
   "source": [
    "def sim( z1: torch.Tensor, z2: torch.Tensor):\n",
    "        z1 = F.normalize(z1)\n",
    "        z2 = F.normalize(z2)\n",
    "        return torch.mm(z1, z2.t())\n",
    "\n",
    "def semi_loss( z1: torch.Tensor, z2: torch.Tensor):\n",
    "        refl_sim = sim(z1, z1)\n",
    "        between_sim = sim(z1, z2)\n",
    "\n",
    "        return refl_sim.sum(1) + between_sim.sum(1) - refl_sim.diag()-between_sim.diag()\n",
    "def loss( z1: torch.Tensor, z2: torch.Tensor,\n",
    "             mean: bool = True, batch_size: int = 0):\n",
    "        h1 = model.projection(z1)\n",
    "        h2 = model.projection(z2)\n",
    "\n",
    "        if batch_size == 0:\n",
    "            l1 = semi_loss(h1, h2)\n",
    "            l2 = semi_loss(h2, h1)\n",
    "        else:\n",
    "           # l1 = batched_semi_loss(h1, h2, batch_size)\n",
    "           # l2 = batched_semi_loss(h2, h1, batch_size)\n",
    "            ;\n",
    "        ret = (l1 + l2) * 0.5\n",
    "        ret = ret.mean() if mean else ret.sum()\n",
    "\n",
    "        return ret"
   ]
  },
  {
   "cell_type": "code",
   "execution_count": 306,
   "id": "93531e1d",
   "metadata": {},
   "outputs": [],
   "source": [
    "idx_train = range(140)\n",
    "idx_val = range(200, 500)\n",
    "idx_test = range(500, 1500)\n",
    "def train(epoch):\n",
    "    t = time.time()\n",
    "    model.train()\n",
    "    \n",
    "    \n",
    "    \n",
    "    optimizer.zero_grad()\n",
    "    \n",
    "    out_sum = model(feature_origin, (adj_normalized>0) )\n",
    "    out = out_sum[0]\n",
    "    output = out_sum[1]\n",
    "    #random_batch = np.random.choice(idx_train.shape[0],int(np.ceil(idx_train.shape[0]/10)))\n",
    "    #loss_train = F.nll_loss(output[idx_train[random_batch]], labels[idx_train[random_batch]])\n",
    "    #loss_train = F.nll_loss(output[idx_train], labels[idx_train])\n",
    "    \n",
    "    loss_train = loss(out,out)\n",
    "    #loss_train = ((Lambda*torch.sum(torch.mm(torch.mm(torch.transpose(F.normalize(out), 0, 1), torch.eye(lap_normalized.shape[0])), F.normalize(out)),dim=(0,1)))) # - torch.trace(\n",
    "        #torch.mm(torch.mm(torch.transpose(F.normalize(out), 0, 1), lap_normalized_power2), F.normalize(out))))/lap_normalized.shape[0]) #+ torch.trace ( torch.nn.functional.relu\n",
    "        #(torch.mm(out,torch.transpose(out, 0, 1)) -torch.eye(lap_normalized.shape[0]))**2) /lap_normalized.shape[0]   #+ 10*F.nll_loss(\n",
    "        #output[idx_train], labels[idx_train]) # -torch.eye(lap_normalized.shape[0]\n",
    "    #loss_train = F.nll_loss(output[idx_train], labels[idx_train]) # -torch.eye(lap_normalized.shape[0]\n",
    "#acc_train = accuracy(output[idx_train], labels[idx_train])\n",
    "    print(loss_train)\n",
    "    loss_train.backward()\n",
    "    optimizer.step()\n",
    "''' \n",
    "  if not args.fastmode:\n",
    "        # Evaluate validation set performance separately,\n",
    "        # deactivates dropout during validation run.\n",
    "        model.eval()\n",
    "        output = model(feature, adj)[0]\n",
    "    \n",
    "    output = model(feature, adj_normalized)[1]\n",
    "    loss_val = F.nll_loss(output[idx_val], labels[idx_val])\n",
    "    acc_val = accuracy(output[idx_val],labels[idx_val])\n",
    "    print('Epoch: {:04d}'.format(epoch+1),\n",
    "          'loss_train: {:.4f}'.format(loss_train.item()),\n",
    "          'acc_train: {:.4f}'.format(acc_train.item()),\n",
    "          'loss_val: {:.4f}'.format(loss_val.item()),\n",
    "          'acc_val: {:.4f}'.format(acc_val.item()),\n",
    "          'time: {:.4f}s'.format(time.time() - t))\n",
    "    return acc_train, acc_val'''\n",
    "\n",
    "\n",
    "def test():\n",
    "    model.eval()\n",
    "    output = model(features, adj)[0]\n",
    "    loss_test = F.nll_loss(output[idx_test], labels[idx_test])\n",
    "    acc_test = accuracy(output[idx_test], labels[idx_test])\n",
    "    print(\"Test set results:\",\n",
    "          \"loss= {:.4f}\".format(loss_test.item()),\n",
    "          \"accuracy= {:.4f}\".format(acc_test.item()))"
   ]
  },
  {
   "cell_type": "code",
   "execution_count": 307,
   "id": "2759ef00",
   "metadata": {},
   "outputs": [],
   "source": [
    "import torch.optim as optim\n",
    "args.num_layers=2\n",
    "args.epochs=20\n",
    "args.weight_decay=5e-10\n",
    "args.hidden = 500\n",
    "args.dropout = 0.0\n",
    "args.cuda = False\n",
    "args.fastmode = False\n",
    "#optimizer = optim.SGD(model.parameters(), lr=0.01, momentum=0.9)\n",
    "\n",
    "\n",
    "# Model and optimizer\n",
    "model = GCN(nfeat=feature_origin.shape[1],\n",
    "            nhid=args.hidden,\n",
    "            nclass=500,#labels.max().item() + 1,\n",
    "            dropout=args.dropout,\n",
    "            num_layers=args.num_layers)\n",
    "\n",
    "if args.cuda:\n",
    "    model.cuda()\n",
    "    features = features.cuda()\n",
    "    adj = adj.cuda()\n",
    "    labels = labels.cuda()\n",
    "    idx_train = idx_train.cuda()\n",
    "    idx_val = idx_val.cuda()\n",
    "    idx_test = idx_test.cuda()\n",
    "    \n",
    "    \n",
    "optimizer = optim.Adam(model.parameters(),\n",
    "                       lr=args.lr, weight_decay=args.weight_decay)"
   ]
  },
  {
   "cell_type": "code",
   "execution_count": 308,
   "id": "02fd05a5",
   "metadata": {},
   "outputs": [
    {
     "ename": "RuntimeError",
     "evalue": "\"addmm_impl_cpu_\" not implemented for 'Bool'",
     "output_type": "error",
     "traceback": [
      "\u001b[0;31m---------------------------------------------------------------------------\u001b[0m",
      "\u001b[0;31mRuntimeError\u001b[0m                              Traceback (most recent call last)",
      "Input \u001b[0;32mIn [308]\u001b[0m, in \u001b[0;36m<cell line: 1>\u001b[0;34m()\u001b[0m\n\u001b[1;32m      1\u001b[0m \u001b[38;5;28;01mfor\u001b[39;00m epoch \u001b[38;5;129;01min\u001b[39;00m \u001b[38;5;28mrange\u001b[39m(args\u001b[38;5;241m.\u001b[39mepochs):\n\u001b[0;32m----> 2\u001b[0m     \u001b[43mtrain\u001b[49m\u001b[43m(\u001b[49m\u001b[43mepoch\u001b[49m\u001b[43m)\u001b[49m\n\u001b[1;32m      4\u001b[0m     \u001b[38;5;66;03m#writer.add_scalar(\"acc train\",acc_train,epoch)\u001b[39;00m\n\u001b[1;32m      5\u001b[0m     \u001b[38;5;66;03m#writer.add_scalar(\"acc val\",acc_val,epoch)\u001b[39;00m\n\u001b[1;32m      6\u001b[0m \n\u001b[1;32m      7\u001b[0m     \u001b[38;5;66;03m#output = model(features, adj)[0]\u001b[39;00m\n\u001b[1;32m      8\u001b[0m     \u001b[38;5;66;03m#x_intermediate = model(features, adj)[1]\u001b[39;00m\n\u001b[1;32m      9\u001b[0m model\u001b[38;5;241m.\u001b[39meval()\n",
      "Input \u001b[0;32mIn [306]\u001b[0m, in \u001b[0;36mtrain\u001b[0;34m(epoch)\u001b[0m\n\u001b[1;32m      6\u001b[0m model\u001b[38;5;241m.\u001b[39mtrain()\n\u001b[1;32m     10\u001b[0m optimizer\u001b[38;5;241m.\u001b[39mzero_grad()\n\u001b[0;32m---> 12\u001b[0m out_sum \u001b[38;5;241m=\u001b[39m \u001b[43mmodel\u001b[49m\u001b[43m(\u001b[49m\u001b[43mfeature_origin\u001b[49m\u001b[43m,\u001b[49m\u001b[43m \u001b[49m\u001b[43madj_normalized\u001b[49m\u001b[38;5;241;43m>\u001b[39;49m\u001b[38;5;241;43m0\u001b[39;49m\u001b[43m)\u001b[49m\n\u001b[1;32m     13\u001b[0m out \u001b[38;5;241m=\u001b[39m out_sum[\u001b[38;5;241m0\u001b[39m]\n\u001b[1;32m     14\u001b[0m output \u001b[38;5;241m=\u001b[39m out_sum[\u001b[38;5;241m1\u001b[39m]\n",
      "File \u001b[0;32m~/anaconda3/envs/condenv/lib/python3.9/site-packages/torch/nn/modules/module.py:1110\u001b[0m, in \u001b[0;36mModule._call_impl\u001b[0;34m(self, *input, **kwargs)\u001b[0m\n\u001b[1;32m   1106\u001b[0m \u001b[38;5;66;03m# If we don't have any hooks, we want to skip the rest of the logic in\u001b[39;00m\n\u001b[1;32m   1107\u001b[0m \u001b[38;5;66;03m# this function, and just call forward.\u001b[39;00m\n\u001b[1;32m   1108\u001b[0m \u001b[38;5;28;01mif\u001b[39;00m \u001b[38;5;129;01mnot\u001b[39;00m (\u001b[38;5;28mself\u001b[39m\u001b[38;5;241m.\u001b[39m_backward_hooks \u001b[38;5;129;01mor\u001b[39;00m \u001b[38;5;28mself\u001b[39m\u001b[38;5;241m.\u001b[39m_forward_hooks \u001b[38;5;129;01mor\u001b[39;00m \u001b[38;5;28mself\u001b[39m\u001b[38;5;241m.\u001b[39m_forward_pre_hooks \u001b[38;5;129;01mor\u001b[39;00m _global_backward_hooks\n\u001b[1;32m   1109\u001b[0m         \u001b[38;5;129;01mor\u001b[39;00m _global_forward_hooks \u001b[38;5;129;01mor\u001b[39;00m _global_forward_pre_hooks):\n\u001b[0;32m-> 1110\u001b[0m     \u001b[38;5;28;01mreturn\u001b[39;00m \u001b[43mforward_call\u001b[49m\u001b[43m(\u001b[49m\u001b[38;5;241;43m*\u001b[39;49m\u001b[38;5;28;43minput\u001b[39;49m\u001b[43m,\u001b[49m\u001b[43m \u001b[49m\u001b[38;5;241;43m*\u001b[39;49m\u001b[38;5;241;43m*\u001b[39;49m\u001b[43mkwargs\u001b[49m\u001b[43m)\u001b[49m\n\u001b[1;32m   1111\u001b[0m \u001b[38;5;66;03m# Do not call functions when jit is used\u001b[39;00m\n\u001b[1;32m   1112\u001b[0m full_backward_hooks, non_full_backward_hooks \u001b[38;5;241m=\u001b[39m [], []\n",
      "Input \u001b[0;32mIn [303]\u001b[0m, in \u001b[0;36mGCN.forward\u001b[0;34m(self, x, adj, intermediate_i)\u001b[0m\n\u001b[1;32m     65\u001b[0m \u001b[38;5;28;01mfor\u001b[39;00m i, layer \u001b[38;5;129;01min\u001b[39;00m \u001b[38;5;28menumerate\u001b[39m(\u001b[38;5;28mself\u001b[39m\u001b[38;5;241m.\u001b[39mhidden_fm_layers):\n\u001b[1;32m     66\u001b[0m     x \u001b[38;5;241m=\u001b[39m F\u001b[38;5;241m.\u001b[39mdropout(x) \n\u001b[0;32m---> 67\u001b[0m     x \u001b[38;5;241m=\u001b[39m \u001b[38;5;28;43mself\u001b[39;49m\u001b[38;5;241;43m.\u001b[39;49m\u001b[43mprop\u001b[49m\u001b[43m(\u001b[49m\u001b[43mx\u001b[49m\u001b[43m,\u001b[49m\u001b[43madj\u001b[49m\u001b[43m)\u001b[49m\n\u001b[1;32m     68\u001b[0m     x \u001b[38;5;241m=\u001b[39m layer(x)\n\u001b[1;32m     69\u001b[0m     \u001b[38;5;28;01mif\u001b[39;00m intermediate_i \u001b[38;5;241m==\u001b[39m intermediate_i_counter:         \u001b[38;5;66;03m#\u001b[39;00m\n",
      "File \u001b[0;32m~/anaconda3/envs/condenv/lib/python3.9/site-packages/torch/nn/modules/module.py:1110\u001b[0m, in \u001b[0;36mModule._call_impl\u001b[0;34m(self, *input, **kwargs)\u001b[0m\n\u001b[1;32m   1106\u001b[0m \u001b[38;5;66;03m# If we don't have any hooks, we want to skip the rest of the logic in\u001b[39;00m\n\u001b[1;32m   1107\u001b[0m \u001b[38;5;66;03m# this function, and just call forward.\u001b[39;00m\n\u001b[1;32m   1108\u001b[0m \u001b[38;5;28;01mif\u001b[39;00m \u001b[38;5;129;01mnot\u001b[39;00m (\u001b[38;5;28mself\u001b[39m\u001b[38;5;241m.\u001b[39m_backward_hooks \u001b[38;5;129;01mor\u001b[39;00m \u001b[38;5;28mself\u001b[39m\u001b[38;5;241m.\u001b[39m_forward_hooks \u001b[38;5;129;01mor\u001b[39;00m \u001b[38;5;28mself\u001b[39m\u001b[38;5;241m.\u001b[39m_forward_pre_hooks \u001b[38;5;129;01mor\u001b[39;00m _global_backward_hooks\n\u001b[1;32m   1109\u001b[0m         \u001b[38;5;129;01mor\u001b[39;00m _global_forward_hooks \u001b[38;5;129;01mor\u001b[39;00m _global_forward_pre_hooks):\n\u001b[0;32m-> 1110\u001b[0m     \u001b[38;5;28;01mreturn\u001b[39;00m \u001b[43mforward_call\u001b[49m\u001b[43m(\u001b[49m\u001b[38;5;241;43m*\u001b[39;49m\u001b[38;5;28;43minput\u001b[39;49m\u001b[43m,\u001b[49m\u001b[43m \u001b[49m\u001b[38;5;241;43m*\u001b[39;49m\u001b[38;5;241;43m*\u001b[39;49m\u001b[43mkwargs\u001b[49m\u001b[43m)\u001b[49m\n\u001b[1;32m   1111\u001b[0m \u001b[38;5;66;03m# Do not call functions when jit is used\u001b[39;00m\n\u001b[1;32m   1112\u001b[0m full_backward_hooks, non_full_backward_hooks \u001b[38;5;241m=\u001b[39m [], []\n",
      "File \u001b[0;32m/mnt/d/time_eternity/desktop_download_doc_pic_vid_music/Desktop/fp_jupyter_conda/COLES-main-gnn/layers.py:61\u001b[0m, in \u001b[0;36mGraphPropagation.forward\u001b[0;34m(self, input, adj)\u001b[0m\n\u001b[1;32m     60\u001b[0m \u001b[38;5;28;01mdef\u001b[39;00m \u001b[38;5;21mforward\u001b[39m(\u001b[38;5;28mself\u001b[39m, \u001b[38;5;28minput\u001b[39m, adj):\n\u001b[0;32m---> 61\u001b[0m     \u001b[38;5;28;01mreturn\u001b[39;00m \u001b[43mtorch\u001b[49m\u001b[38;5;241;43m.\u001b[39;49m\u001b[43mspmm\u001b[49m\u001b[43m(\u001b[49m\u001b[43madj\u001b[49m\u001b[43m,\u001b[49m\u001b[43m \u001b[49m\u001b[38;5;28;43minput\u001b[39;49m\u001b[43m)\u001b[49m\n",
      "\u001b[0;31mRuntimeError\u001b[0m: \"addmm_impl_cpu_\" not implemented for 'Bool'"
     ]
    }
   ],
   "source": [
    "    for epoch in range(args.epochs):\n",
    "        train(epoch)\n",
    "        \n",
    "        #writer.add_scalar(\"acc train\",acc_train,epoch)\n",
    "        #writer.add_scalar(\"acc val\",acc_val,epoch)\n",
    "\n",
    "        #output = model(features, adj)[0]\n",
    "        #x_intermediate = model(features, adj)[1]\n",
    "model.eval()\n",
    "emb = model(feature_origin,adj_normalized>0)[0]"
   ]
  },
  {
   "cell_type": "code",
   "execution_count": null,
   "id": "66106fd1",
   "metadata": {},
   "outputs": [],
   "source": []
  },
  {
   "cell_type": "code",
   "execution_count": null,
   "id": "9da1d8ec",
   "metadata": {},
   "outputs": [],
   "source": []
  },
  {
   "cell_type": "code",
   "execution_count": null,
   "id": "2ed70a45",
   "metadata": {},
   "outputs": [],
   "source": [
    "    "
   ]
  },
  {
   "cell_type": "code",
   "execution_count": 241,
   "id": "9b805333",
   "metadata": {},
   "outputs": [],
   "source": [
    "label_file = open(\"data/{}{}\".format('cora',\"_labels.txt\"), 'r')\n",
    "label_text = label_file.readlines()\n",
    "labels = []\n",
    "for line in label_text:\n",
    "    if line.strip('\\n'):\n",
    "        line = line.strip('\\n').split(' ')\n",
    "        labels.append(int(line[1]))"
   ]
  },
  {
   "cell_type": "code",
   "execution_count": 242,
   "id": "ced5accc",
   "metadata": {},
   "outputs": [],
   "source": [
    "labels = np.array(labels)"
   ]
  },
  {
   "cell_type": "code",
   "execution_count": 300,
   "id": "2bc93e7a",
   "metadata": {},
   "outputs": [
    {
     "name": "stdout",
     "output_type": "stream",
     "text": [
      "43.86902800658979\n",
      "1.5700521283967792\n",
      "31.69067475360122\n",
      "3.245024193939757\n"
     ]
    }
   ],
   "source": [
    "\n",
    "\n",
    "\n",
    "classify(emb.detach().numpy(), args.dataset, per_class='20')\n",
    "classify(emb.detach().numpy(), args.dataset, per_class='5')\n",
    "# 75.94010614101592\n",
    "# 2.558565685178548\n",
    "# 81.08649093904448\n",
    "# 1.2309989030251056"
   ]
  },
  {
   "cell_type": "code",
   "execution_count": 299,
   "id": "af31a1d1",
   "metadata": {},
   "outputs": [
    {
     "data": {
      "text/plain": [
       "<matplotlib.collections.PathCollection at 0x7fb9af8ec7c0>"
      ]
     },
     "execution_count": 299,
     "metadata": {},
     "output_type": "execute_result"
    },
    {
     "data": {
      "image/png": "[encoded data removed]",
      "text/plain": [
       "<Figure size 432x288 with 1 Axes>"
      ]
     },
     "metadata": {
      "needs_background": "light"
     },
     "output_type": "display_data"
    }
   ],
   "source": [
    "from sklearn import decomposition\n",
    "from sklearn import datasets\n",
    "from sklearn.preprocessing import StandardScaler\n",
    "\n",
    "pca = decomposition.PCA(n_components=2)\n",
    "\n",
    "\n",
    "emb_pca = pca.fit_transform(emb.detach().numpy())\n",
    "\n",
    "import matplotlib.pyplot as plt\n",
    "import matplotlib\n",
    "#matplotlib.use('GTK4Agg')\n",
    "\n",
    "\n",
    "emb_pca_x = emb_pca[:,0]\n",
    "emb_pca_y = emb_pca[:,1]\n",
    "ss = 0.2\n",
    "plt.scatter(emb_pca_x[np.nonzero(labels == 0)],emb_pca_y[np.nonzero(labels == 0)],s=ss,color='r')\n",
    "plt.scatter(emb_pca_x[np.nonzero(labels == 1)],emb_pca_y[np.nonzero(labels == 1)],s=ss,color='b')\n",
    "plt.scatter(emb_pca_x[np.nonzero(labels == 2)],emb_pca_y[np.nonzero(labels == 2)],s=ss,color='g')\n",
    "plt.scatter(emb_pca_x[np.nonzero(labels == 3)],emb_pca_y[np.nonzero(labels == 3)],s=ss,color='y')\n",
    "plt.scatter(emb_pca_x[np.nonzero(labels == 4)],emb_pca_y[np.nonzero(labels == 4)],s=ss,color='c')\n",
    "plt.scatter(emb_pca_x[np.nonzero(labels == 5)],emb_pca_y[np.nonzero(labels == 5)],s=ss,color='k')"
   ]
  },
  {
   "cell_type": "code",
   "execution_count": null,
   "id": "7b954053",
   "metadata": {},
   "outputs": [],
   "source": []
  },
  {
   "cell_type": "code",
   "execution_count": null,
   "id": "0ec8088e",
   "metadata": {},
   "outputs": [],
   "source": []
  },
  {
   "cell_type": "code",
   "execution_count": 12,
   "id": "62865159",
   "metadata": {},
   "outputs": [],
   "source": [
    "#emb = model(emb).cpu().detach().numpy()\n",
    "#np.save('embedding.npy', emb)\n",
    "U,S,V = torch.linalg.svd(adj_normalized-1/args.num_nodes)\n",
    "emb_lap = torch.transpose(U[0:args.output-1,:],0,1)\n"
   ]
  },
  {
   "cell_type": "code",
   "execution_count": 13,
   "id": "2eb48241",
   "metadata": {},
   "outputs": [
    {
     "data": {
      "text/plain": [
       "<matplotlib.collections.PathCollection at 0x7fb9a0062700>"
      ]
     },
     "execution_count": 13,
     "metadata": {},
     "output_type": "execute_result"
    },
    {
     "data": {
      "image/png": "[encoded data removed]",
      "text/plain": [
       "<Figure size 432x288 with 1 Axes>"
      ]
     },
     "metadata": {
      "needs_background": "light"
     },
     "output_type": "display_data"
    }
   ],
   "source": [
    "from sklearn import decomposition\n",
    "from sklearn import datasets\n",
    "from sklearn.preprocessing import StandardScaler\n",
    "\n",
    "pca = decomposition.PCA(n_components=3)\n",
    "\n",
    "\n",
    "emb_pca = pca.fit_transform(emb_lap)\n",
    "import matplotlib.pyplot as plt\n",
    "\n",
    "emb_pca_x = emb_pca[:,0]\n",
    "emb_pca_y = emb_pca[:,1]\n",
    "ss = 0.2\n",
    "plt.scatter(emb_pca_x[np.nonzero(labels == 0)],emb_pca_y[np.nonzero(labels == 0)],s=ss,color='r')\n",
    "plt.scatter(emb_pca_x[np.nonzero(labels == 1)],emb_pca_y[np.nonzero(labels == 1)],s=ss,color='b')\n",
    "plt.scatter(emb_pca_x[np.nonzero(labels == 2)],emb_pca_y[np.nonzero(labels == 2)],s=ss,color='g')\n",
    "plt.scatter(emb_pca_x[np.nonzero(labels == 3)],emb_pca_y[np.nonzero(labels == 3)],s=ss,color='y')\n",
    "plt.scatter(emb_pca_x[np.nonzero(labels == 4)],emb_pca_y[np.nonzero(labels == 4)],s=ss,color='c')\n",
    "plt.scatter(emb_pca_x[np.nonzero(labels == 5)],emb_pca_y[np.nonzero(labels == 5)],s=ss,color='k')"
   ]
  },
  {
   "cell_type": "code",
   "execution_count": null,
   "id": "17da5858",
   "metadata": {},
   "outputs": [],
   "source": []
  },
  {
   "cell_type": "code",
   "execution_count": null,
   "id": "e8181042",
   "metadata": {},
   "outputs": [],
   "source": []
  }
 ],
 "metadata": {
  "kernelspec": {
   "display_name": "Python 3 (ipykernel)",
   "language": "python",
   "name": "python3"
  },
  "language_info": {
   "codemirror_mode": {
    "name": "ipython",
    "version": 3
   },
   "file_extension": ".py",
   "mimetype": "text/x-python",
   "name": "python",
   "nbconvert_exporter": "python",
   "pygments_lexer": "ipython3",
   "version": "3.9.12"
  }
 },
 "nbformat": 4,
 "nbformat_minor": 5
}
